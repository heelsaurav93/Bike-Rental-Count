{
 "cells": [
  {
   "cell_type": "code",
   "execution_count": 1,
   "metadata": {},
   "outputs": [],
   "source": [
    "#importing required libraries\n",
    "import csv\n",
    "import os\n",
    "import pandas as pd\n",
    "import numpy as np\n",
    "import matplotlib.pyplot as plt\n",
    "import seaborn as sns\n",
    "from scipy.stats import chi2_contingency"
   ]
  },
  {
   "cell_type": "code",
   "execution_count": 2,
   "metadata": {},
   "outputs": [
    {
     "data": {
      "text/plain": [
       "'D:\\\\edwisor Qs\\\\P1. Bike Rental'"
      ]
     },
     "execution_count": 2,
     "metadata": {},
     "output_type": "execute_result"
    }
   ],
   "source": [
    "#changing and verifying directory\n",
    "os.chdir(r\"D:\\edwisor Qs\\P1. Bike Rental\")\n",
    "os.getcwd()"
   ]
  },
  {
   "cell_type": "code",
   "execution_count": 51,
   "metadata": {},
   "outputs": [],
   "source": [
    "#loading the CSV file\n",
    "day = pd.read_csv(\"day.csv\", sep = \",\", encoding = \"ISO-8859-1\")"
   ]
  },
  {
   "cell_type": "code",
   "execution_count": 52,
   "metadata": {},
   "outputs": [
    {
     "data": {
      "text/plain": [
       "(731, 16)"
      ]
     },
     "execution_count": 52,
     "metadata": {},
     "output_type": "execute_result"
    }
   ],
   "source": [
    "#checking shape\n",
    "day.shape"
   ]
  },
  {
   "cell_type": "code",
   "execution_count": 53,
   "metadata": {
    "scrolled": true
   },
   "outputs": [
    {
     "data": {
      "text/html": [
       "<div>\n",
       "<style scoped>\n",
       "    .dataframe tbody tr th:only-of-type {\n",
       "        vertical-align: middle;\n",
       "    }\n",
       "\n",
       "    .dataframe tbody tr th {\n",
       "        vertical-align: top;\n",
       "    }\n",
       "\n",
       "    .dataframe thead th {\n",
       "        text-align: right;\n",
       "    }\n",
       "</style>\n",
       "<table border=\"1\" class=\"dataframe\">\n",
       "  <thead>\n",
       "    <tr style=\"text-align: right;\">\n",
       "      <th></th>\n",
       "      <th>instant</th>\n",
       "      <th>dteday</th>\n",
       "      <th>season</th>\n",
       "      <th>yr</th>\n",
       "      <th>mnth</th>\n",
       "      <th>holiday</th>\n",
       "      <th>weekday</th>\n",
       "      <th>workingday</th>\n",
       "      <th>weathersit</th>\n",
       "      <th>temp</th>\n",
       "      <th>atemp</th>\n",
       "      <th>hum</th>\n",
       "      <th>windspeed</th>\n",
       "      <th>casual</th>\n",
       "      <th>registered</th>\n",
       "      <th>cnt</th>\n",
       "    </tr>\n",
       "  </thead>\n",
       "  <tbody>\n",
       "    <tr>\n",
       "      <th>0</th>\n",
       "      <td>1</td>\n",
       "      <td>2011-01-01</td>\n",
       "      <td>1</td>\n",
       "      <td>0</td>\n",
       "      <td>1</td>\n",
       "      <td>0</td>\n",
       "      <td>6</td>\n",
       "      <td>0</td>\n",
       "      <td>2</td>\n",
       "      <td>0.344167</td>\n",
       "      <td>0.363625</td>\n",
       "      <td>0.805833</td>\n",
       "      <td>0.160446</td>\n",
       "      <td>331</td>\n",
       "      <td>654</td>\n",
       "      <td>985</td>\n",
       "    </tr>\n",
       "    <tr>\n",
       "      <th>1</th>\n",
       "      <td>2</td>\n",
       "      <td>2011-01-02</td>\n",
       "      <td>1</td>\n",
       "      <td>0</td>\n",
       "      <td>1</td>\n",
       "      <td>0</td>\n",
       "      <td>0</td>\n",
       "      <td>0</td>\n",
       "      <td>2</td>\n",
       "      <td>0.363478</td>\n",
       "      <td>0.353739</td>\n",
       "      <td>0.696087</td>\n",
       "      <td>0.248539</td>\n",
       "      <td>131</td>\n",
       "      <td>670</td>\n",
       "      <td>801</td>\n",
       "    </tr>\n",
       "    <tr>\n",
       "      <th>2</th>\n",
       "      <td>3</td>\n",
       "      <td>2011-01-03</td>\n",
       "      <td>1</td>\n",
       "      <td>0</td>\n",
       "      <td>1</td>\n",
       "      <td>0</td>\n",
       "      <td>1</td>\n",
       "      <td>1</td>\n",
       "      <td>1</td>\n",
       "      <td>0.196364</td>\n",
       "      <td>0.189405</td>\n",
       "      <td>0.437273</td>\n",
       "      <td>0.248309</td>\n",
       "      <td>120</td>\n",
       "      <td>1229</td>\n",
       "      <td>1349</td>\n",
       "    </tr>\n",
       "    <tr>\n",
       "      <th>3</th>\n",
       "      <td>4</td>\n",
       "      <td>2011-01-04</td>\n",
       "      <td>1</td>\n",
       "      <td>0</td>\n",
       "      <td>1</td>\n",
       "      <td>0</td>\n",
       "      <td>2</td>\n",
       "      <td>1</td>\n",
       "      <td>1</td>\n",
       "      <td>0.200000</td>\n",
       "      <td>0.212122</td>\n",
       "      <td>0.590435</td>\n",
       "      <td>0.160296</td>\n",
       "      <td>108</td>\n",
       "      <td>1454</td>\n",
       "      <td>1562</td>\n",
       "    </tr>\n",
       "    <tr>\n",
       "      <th>4</th>\n",
       "      <td>5</td>\n",
       "      <td>2011-01-05</td>\n",
       "      <td>1</td>\n",
       "      <td>0</td>\n",
       "      <td>1</td>\n",
       "      <td>0</td>\n",
       "      <td>3</td>\n",
       "      <td>1</td>\n",
       "      <td>1</td>\n",
       "      <td>0.226957</td>\n",
       "      <td>0.229270</td>\n",
       "      <td>0.436957</td>\n",
       "      <td>0.186900</td>\n",
       "      <td>82</td>\n",
       "      <td>1518</td>\n",
       "      <td>1600</td>\n",
       "    </tr>\n",
       "  </tbody>\n",
       "</table>\n",
       "</div>"
      ],
      "text/plain": [
       "   instant      dteday  season  yr  mnth  holiday  weekday  workingday  \\\n",
       "0        1  2011-01-01       1   0     1        0        6           0   \n",
       "1        2  2011-01-02       1   0     1        0        0           0   \n",
       "2        3  2011-01-03       1   0     1        0        1           1   \n",
       "3        4  2011-01-04       1   0     1        0        2           1   \n",
       "4        5  2011-01-05       1   0     1        0        3           1   \n",
       "\n",
       "   weathersit      temp     atemp       hum  windspeed  casual  registered  \\\n",
       "0           2  0.344167  0.363625  0.805833   0.160446     331         654   \n",
       "1           2  0.363478  0.353739  0.696087   0.248539     131         670   \n",
       "2           1  0.196364  0.189405  0.437273   0.248309     120        1229   \n",
       "3           1  0.200000  0.212122  0.590435   0.160296     108        1454   \n",
       "4           1  0.226957  0.229270  0.436957   0.186900      82        1518   \n",
       "\n",
       "    cnt  \n",
       "0   985  \n",
       "1   801  \n",
       "2  1349  \n",
       "3  1562  \n",
       "4  1600  "
      ]
     },
     "execution_count": 53,
     "metadata": {},
     "output_type": "execute_result"
    }
   ],
   "source": [
    "#checking head\n",
    "day.head()"
   ]
  },
  {
   "cell_type": "code",
   "execution_count": 54,
   "metadata": {},
   "outputs": [
    {
     "name": "stdout",
     "output_type": "stream",
     "text": [
      "731    1\n",
      "251    1\n",
      "249    1\n",
      "248    1\n",
      "247    1\n",
      "      ..\n",
      "486    1\n",
      "485    1\n",
      "484    1\n",
      "483    1\n",
      "1      1\n",
      "Name: instant, Length: 731, dtype: int64\n",
      "2012-09-10    1\n",
      "2011-07-06    1\n",
      "2012-12-09    1\n",
      "2011-05-12    1\n",
      "2011-03-18    1\n",
      "             ..\n",
      "2012-09-07    1\n",
      "2011-10-09    1\n",
      "2012-11-18    1\n",
      "2011-05-07    1\n",
      "2012-02-06    1\n",
      "Name: dteday, Length: 731, dtype: int64\n",
      "3    188\n",
      "2    184\n",
      "1    181\n",
      "4    178\n",
      "Name: season, dtype: int64\n",
      "1    366\n",
      "0    365\n",
      "Name: yr, dtype: int64\n",
      "12    62\n",
      "10    62\n",
      "8     62\n",
      "7     62\n",
      "5     62\n",
      "3     62\n",
      "1     62\n",
      "11    60\n",
      "9     60\n",
      "6     60\n",
      "4     60\n",
      "2     57\n",
      "Name: mnth, dtype: int64\n",
      "0    710\n",
      "1     21\n",
      "Name: holiday, dtype: int64\n",
      "6    105\n",
      "1    105\n",
      "0    105\n",
      "5    104\n",
      "4    104\n",
      "3    104\n",
      "2    104\n",
      "Name: weekday, dtype: int64\n",
      "1    500\n",
      "0    231\n",
      "Name: workingday, dtype: int64\n",
      "1    463\n",
      "2    247\n",
      "3     21\n",
      "Name: weathersit, dtype: int64\n",
      "0.265833    5\n",
      "0.635000    5\n",
      "0.437500    4\n",
      "0.564167    4\n",
      "0.649167    4\n",
      "           ..\n",
      "0.226957    1\n",
      "0.354167    1\n",
      "0.580833    1\n",
      "0.231667    1\n",
      "0.337500    1\n",
      "Name: temp, Length: 499, dtype: int64\n",
      "0.654688    4\n",
      "0.637008    3\n",
      "0.375621    3\n",
      "0.542929    2\n",
      "0.603554    2\n",
      "           ..\n",
      "0.612379    1\n",
      "0.464021    1\n",
      "0.624371    1\n",
      "0.512621    1\n",
      "0.538521    1\n",
      "Name: atemp, Length: 690, dtype: int64\n",
      "0.613333    4\n",
      "0.568333    3\n",
      "0.542500    3\n",
      "0.752917    3\n",
      "0.697083    3\n",
      "           ..\n",
      "0.615000    1\n",
      "0.686667    1\n",
      "0.480833    1\n",
      "0.649565    1\n",
      "0.741739    1\n",
      "Name: hum, Length: 595, dtype: int64\n",
      "0.228858    3\n",
      "0.118792    3\n",
      "0.134954    3\n",
      "0.149883    3\n",
      "0.166667    3\n",
      "           ..\n",
      "0.388067    1\n",
      "0.185333    1\n",
      "0.189667    1\n",
      "0.290421    1\n",
      "0.415429    1\n",
      "Name: windspeed, Length: 650, dtype: int64\n",
      "968     4\n",
      "120     4\n",
      "244     3\n",
      "653     3\n",
      "639     3\n",
      "       ..\n",
      "614     1\n",
      "1639    1\n",
      "616     1\n",
      "620     1\n",
      "1118    1\n",
      "Name: casual, Length: 606, dtype: int64\n",
      "4841    3\n",
      "1707    3\n",
      "6248    3\n",
      "3578    2\n",
      "4429    2\n",
      "       ..\n",
      "2720    1\n",
      "670     1\n",
      "1693    1\n",
      "4763    1\n",
      "4097    1\n",
      "Name: registered, Length: 679, dtype: int64\n",
      "5119    2\n",
      "4401    2\n",
      "1977    2\n",
      "6824    2\n",
      "5191    2\n",
      "       ..\n",
      "6273    1\n",
      "5501    1\n",
      "4760    1\n",
      "1683    1\n",
      "4097    1\n",
      "Name: cnt, Length: 696, dtype: int64\n"
     ]
    }
   ],
   "source": [
    "#checking unique values\n",
    "for i in day:\n",
    "    print(day[i].value_counts())"
   ]
  },
  {
   "cell_type": "code",
   "execution_count": 55,
   "metadata": {},
   "outputs": [
    {
     "data": {
      "text/plain": [
       "instant       0\n",
       "dteday        0\n",
       "season        0\n",
       "yr            0\n",
       "mnth          0\n",
       "holiday       0\n",
       "weekday       0\n",
       "workingday    0\n",
       "weathersit    0\n",
       "temp          0\n",
       "atemp         0\n",
       "hum           0\n",
       "windspeed     0\n",
       "casual        0\n",
       "registered    0\n",
       "cnt           0\n",
       "dtype: int64"
      ]
     },
     "execution_count": 55,
     "metadata": {},
     "output_type": "execute_result"
    }
   ],
   "source": [
    "#checking empty values\n",
    "day.isnull().sum()"
   ]
  },
  {
   "cell_type": "markdown",
   "metadata": {},
   "source": [
    "No empty values, that is a relief!"
   ]
  },
  {
   "cell_type": "code",
   "execution_count": 56,
   "metadata": {
    "scrolled": true
   },
   "outputs": [
    {
     "data": {
      "text/plain": [
       "instant         int64\n",
       "dteday         object\n",
       "season          int64\n",
       "yr              int64\n",
       "mnth            int64\n",
       "holiday         int64\n",
       "weekday         int64\n",
       "workingday      int64\n",
       "weathersit      int64\n",
       "temp          float64\n",
       "atemp         float64\n",
       "hum           float64\n",
       "windspeed     float64\n",
       "casual          int64\n",
       "registered      int64\n",
       "cnt             int64\n",
       "dtype: object"
      ]
     },
     "execution_count": 56,
     "metadata": {},
     "output_type": "execute_result"
    }
   ],
   "source": [
    "#checking data types\n",
    "day.dtypes"
   ]
  },
  {
   "cell_type": "markdown",
   "metadata": {},
   "source": [
    "## Exploratory Data Analysis"
   ]
  },
  {
   "cell_type": "markdown",
   "metadata": {},
   "source": [
    "Firstly, before proceeding further, using common sense I shall drop **instant**, as instant is just the instant number or the serial number, if you will, and that has no effect on bike rental count.\n",
    "\n",
    "I will also drop **dteday** because that is just the dates for the two years and all dates have been actually split up into more useful features, like **mnth**, **holiday**, **weekday** and **workingday**. Moreover, keeping the date and using *datetime* to parse and format it only leads to complications in the program."
   ]
  },
  {
   "cell_type": "code",
   "execution_count": 57,
   "metadata": {},
   "outputs": [],
   "source": [
    "#dropping instant and dteday\n",
    "day = day.drop([\"instant\", \"dteday\"], axis = 1)"
   ]
  },
  {
   "cell_type": "markdown",
   "metadata": {},
   "source": [
    "Also, just to make it simple, I will drop **casual** and **registered** because of a multitude of reasons. For starters, **casual** refers to the number of bike rentals that were made without any registrations. And **registered** refers to the number of people who actually registered for bikes and then they made the rent. I see that both **casual** and **registered** sum up to give us the total number of **cnt**. Now this can be approached in two ways:\n",
    "\n",
    "+ One model can be made to predict **casual** and another separate model could be made to predict **registered** and then both these numbers could be summed up.\n",
    "+ Both these variables can be dropped and one model could be built to predict the overall count.\n",
    "\n",
    "The reason I decided to go the second route is for ease of complexity. At the end of the day, both **casual** and **registered** are just features which can be summed up to get **cnt**. Also, when predicting for the future, a person would NOT think about how many casual and registered bike rentals were made. He would rather go for other important features like **season**, **holiday**, **temp**, **hum**, **weathersit** etc. While **casual** and **registered** are important for businesses who would like to analyze how different factors like weather and month affect the casual and registered counts separately, it is not important in this case. Keeping this in mind, I will drop **casual** and **registered** too."
   ]
  },
  {
   "cell_type": "code",
   "execution_count": 58,
   "metadata": {},
   "outputs": [],
   "source": [
    "#dropping casual and registered\n",
    "day = day.drop([\"casual\", \"registered\"], axis = 1)"
   ]
  },
  {
   "cell_type": "code",
   "execution_count": 59,
   "metadata": {},
   "outputs": [
    {
     "data": {
      "text/plain": [
       "(731, 12)"
      ]
     },
     "execution_count": 59,
     "metadata": {},
     "output_type": "execute_result"
    }
   ],
   "source": [
    "#checking new shape\n",
    "day.shape"
   ]
  },
  {
   "cell_type": "code",
   "execution_count": 60,
   "metadata": {},
   "outputs": [
    {
     "data": {
      "text/html": [
       "<div>\n",
       "<style scoped>\n",
       "    .dataframe tbody tr th:only-of-type {\n",
       "        vertical-align: middle;\n",
       "    }\n",
       "\n",
       "    .dataframe tbody tr th {\n",
       "        vertical-align: top;\n",
       "    }\n",
       "\n",
       "    .dataframe thead th {\n",
       "        text-align: right;\n",
       "    }\n",
       "</style>\n",
       "<table border=\"1\" class=\"dataframe\">\n",
       "  <thead>\n",
       "    <tr style=\"text-align: right;\">\n",
       "      <th></th>\n",
       "      <th>season</th>\n",
       "      <th>yr</th>\n",
       "      <th>mnth</th>\n",
       "      <th>holiday</th>\n",
       "      <th>weekday</th>\n",
       "      <th>workingday</th>\n",
       "      <th>weathersit</th>\n",
       "      <th>temp</th>\n",
       "      <th>atemp</th>\n",
       "      <th>hum</th>\n",
       "      <th>windspeed</th>\n",
       "      <th>cnt</th>\n",
       "    </tr>\n",
       "  </thead>\n",
       "  <tbody>\n",
       "    <tr>\n",
       "      <th>0</th>\n",
       "      <td>1</td>\n",
       "      <td>0</td>\n",
       "      <td>1</td>\n",
       "      <td>0</td>\n",
       "      <td>6</td>\n",
       "      <td>0</td>\n",
       "      <td>2</td>\n",
       "      <td>0.344167</td>\n",
       "      <td>0.363625</td>\n",
       "      <td>0.805833</td>\n",
       "      <td>0.160446</td>\n",
       "      <td>985</td>\n",
       "    </tr>\n",
       "    <tr>\n",
       "      <th>1</th>\n",
       "      <td>1</td>\n",
       "      <td>0</td>\n",
       "      <td>1</td>\n",
       "      <td>0</td>\n",
       "      <td>0</td>\n",
       "      <td>0</td>\n",
       "      <td>2</td>\n",
       "      <td>0.363478</td>\n",
       "      <td>0.353739</td>\n",
       "      <td>0.696087</td>\n",
       "      <td>0.248539</td>\n",
       "      <td>801</td>\n",
       "    </tr>\n",
       "    <tr>\n",
       "      <th>2</th>\n",
       "      <td>1</td>\n",
       "      <td>0</td>\n",
       "      <td>1</td>\n",
       "      <td>0</td>\n",
       "      <td>1</td>\n",
       "      <td>1</td>\n",
       "      <td>1</td>\n",
       "      <td>0.196364</td>\n",
       "      <td>0.189405</td>\n",
       "      <td>0.437273</td>\n",
       "      <td>0.248309</td>\n",
       "      <td>1349</td>\n",
       "    </tr>\n",
       "    <tr>\n",
       "      <th>3</th>\n",
       "      <td>1</td>\n",
       "      <td>0</td>\n",
       "      <td>1</td>\n",
       "      <td>0</td>\n",
       "      <td>2</td>\n",
       "      <td>1</td>\n",
       "      <td>1</td>\n",
       "      <td>0.200000</td>\n",
       "      <td>0.212122</td>\n",
       "      <td>0.590435</td>\n",
       "      <td>0.160296</td>\n",
       "      <td>1562</td>\n",
       "    </tr>\n",
       "    <tr>\n",
       "      <th>4</th>\n",
       "      <td>1</td>\n",
       "      <td>0</td>\n",
       "      <td>1</td>\n",
       "      <td>0</td>\n",
       "      <td>3</td>\n",
       "      <td>1</td>\n",
       "      <td>1</td>\n",
       "      <td>0.226957</td>\n",
       "      <td>0.229270</td>\n",
       "      <td>0.436957</td>\n",
       "      <td>0.186900</td>\n",
       "      <td>1600</td>\n",
       "    </tr>\n",
       "  </tbody>\n",
       "</table>\n",
       "</div>"
      ],
      "text/plain": [
       "   season  yr  mnth  holiday  weekday  workingday  weathersit      temp  \\\n",
       "0       1   0     1        0        6           0           2  0.344167   \n",
       "1       1   0     1        0        0           0           2  0.363478   \n",
       "2       1   0     1        0        1           1           1  0.196364   \n",
       "3       1   0     1        0        2           1           1  0.200000   \n",
       "4       1   0     1        0        3           1           1  0.226957   \n",
       "\n",
       "      atemp       hum  windspeed   cnt  \n",
       "0  0.363625  0.805833   0.160446   985  \n",
       "1  0.353739  0.696087   0.248539   801  \n",
       "2  0.189405  0.437273   0.248309  1349  \n",
       "3  0.212122  0.590435   0.160296  1562  \n",
       "4  0.229270  0.436957   0.186900  1600  "
      ]
     },
     "execution_count": 60,
     "metadata": {},
     "output_type": "execute_result"
    }
   ],
   "source": [
    "#checking new head\n",
    "day.head()"
   ]
  },
  {
   "cell_type": "markdown",
   "metadata": {},
   "source": [
    "Next, the **levels** of **categorical variables** come up as **int** type, they will be converted to **categorical variables** for ease. Also, **temp**, **atemp**, **hum** and **windspeed** will be converted to actual."
   ]
  },
  {
   "cell_type": "code",
   "execution_count": 61,
   "metadata": {},
   "outputs": [],
   "source": [
    "#season\n",
    "day[\"season\"] = day[\"season\"].replace(1, \"spring\")\n",
    "day[\"season\"] = day[\"season\"].replace(2, \"summer\")\n",
    "day[\"season\"] = day[\"season\"].replace(3, \"fall\")\n",
    "day[\"season\"] = day[\"season\"].replace(4, \"winter\")"
   ]
  },
  {
   "cell_type": "code",
   "execution_count": 62,
   "metadata": {},
   "outputs": [],
   "source": [
    "#year\n",
    "day[\"yr\"] = day[\"yr\"].replace(0, \"2011\")\n",
    "day[\"yr\"] = day[\"yr\"].replace(1, \"2012\")"
   ]
  },
  {
   "cell_type": "code",
   "execution_count": 63,
   "metadata": {},
   "outputs": [],
   "source": [
    "#month\n",
    "day[\"mnth\"] = day[\"mnth\"].replace(1, \"Jan\")\n",
    "day[\"mnth\"] = day[\"mnth\"].replace(2, \"Feb\")\n",
    "day[\"mnth\"] = day[\"mnth\"].replace(3, \"Mar\")\n",
    "day[\"mnth\"] = day[\"mnth\"].replace(4, \"Apr\")\n",
    "day[\"mnth\"] = day[\"mnth\"].replace(5, \"May\")\n",
    "day[\"mnth\"] = day[\"mnth\"].replace(6, \"Jun\")\n",
    "day[\"mnth\"] = day[\"mnth\"].replace(7, \"Jul\")\n",
    "day[\"mnth\"] = day[\"mnth\"].replace(8, \"Aug\")\n",
    "day[\"mnth\"] = day[\"mnth\"].replace(9, \"Sep\")\n",
    "day[\"mnth\"] = day[\"mnth\"].replace(10, \"Oct\")\n",
    "day[\"mnth\"] = day[\"mnth\"].replace(11, \"Nov\")\n",
    "day[\"mnth\"] = day[\"mnth\"].replace(12, \"Dec\")"
   ]
  },
  {
   "cell_type": "code",
   "execution_count": 64,
   "metadata": {},
   "outputs": [],
   "source": [
    "#holiday\n",
    "day[\"holiday\"] = day[\"holiday\"].replace(0, \"No\")\n",
    "day[\"holiday\"] = day[\"holiday\"].replace(1, \"Yes\")"
   ]
  },
  {
   "cell_type": "code",
   "execution_count": 65,
   "metadata": {},
   "outputs": [],
   "source": [
    "#weekday\n",
    "day[\"weekday\"] = day[\"weekday\"].replace(0, \"Sun\")\n",
    "day[\"weekday\"] = day[\"weekday\"].replace(1, \"Mon\")\n",
    "day[\"weekday\"] = day[\"weekday\"].replace(2, \"Tue\")\n",
    "day[\"weekday\"] = day[\"weekday\"].replace(3, \"Wed\")\n",
    "day[\"weekday\"] = day[\"weekday\"].replace(4, \"Thu\")\n",
    "day[\"weekday\"] = day[\"weekday\"].replace(5, \"Fri\")\n",
    "day[\"weekday\"] = day[\"weekday\"].replace(6, \"Sat\")"
   ]
  },
  {
   "cell_type": "code",
   "execution_count": 66,
   "metadata": {},
   "outputs": [],
   "source": [
    "#working day\n",
    "day[\"workingday\"] = day[\"workingday\"].replace(0, \"No\")\n",
    "day[\"workingday\"] = day[\"workingday\"].replace(1, \"Yes\")"
   ]
  },
  {
   "cell_type": "code",
   "execution_count": 67,
   "metadata": {},
   "outputs": [],
   "source": [
    "#weathersit\n",
    "day[\"weathersit\"] = day[\"weathersit\"].replace(1, \"Clear\")\n",
    "day[\"weathersit\"] = day[\"weathersit\"].replace(2, \"Mist/Cloudy\")\n",
    "day[\"weathersit\"] = day[\"weathersit\"].replace(3, \"Light Snow/Light Rain\")\n",
    "day[\"weathersit\"] = day[\"weathersit\"].replace(4, \"Heavy Rain/Thunderstorm/Heavy Snow\")"
   ]
  },
  {
   "cell_type": "code",
   "execution_count": 68,
   "metadata": {},
   "outputs": [],
   "source": [
    "#temp\n",
    "day[\"temp\"] = (day[\"temp\"] * (47)) - 8"
   ]
  },
  {
   "cell_type": "code",
   "execution_count": 69,
   "metadata": {},
   "outputs": [],
   "source": [
    "#atemp\n",
    "day[\"atemp\"] = (day[\"atemp\"] * (66)) - 16"
   ]
  },
  {
   "cell_type": "code",
   "execution_count": 70,
   "metadata": {},
   "outputs": [],
   "source": [
    "#hum\n",
    "day[\"hum\"] = day[\"hum\"] * 100"
   ]
  },
  {
   "cell_type": "code",
   "execution_count": 71,
   "metadata": {},
   "outputs": [],
   "source": [
    "#windspeed\n",
    "day[\"windspeed\"] = day[\"windspeed\"] * 67"
   ]
  },
  {
   "cell_type": "code",
   "execution_count": 72,
   "metadata": {
    "scrolled": true
   },
   "outputs": [
    {
     "data": {
      "text/html": [
       "<div>\n",
       "<style scoped>\n",
       "    .dataframe tbody tr th:only-of-type {\n",
       "        vertical-align: middle;\n",
       "    }\n",
       "\n",
       "    .dataframe tbody tr th {\n",
       "        vertical-align: top;\n",
       "    }\n",
       "\n",
       "    .dataframe thead th {\n",
       "        text-align: right;\n",
       "    }\n",
       "</style>\n",
       "<table border=\"1\" class=\"dataframe\">\n",
       "  <thead>\n",
       "    <tr style=\"text-align: right;\">\n",
       "      <th></th>\n",
       "      <th>season</th>\n",
       "      <th>yr</th>\n",
       "      <th>mnth</th>\n",
       "      <th>holiday</th>\n",
       "      <th>weekday</th>\n",
       "      <th>workingday</th>\n",
       "      <th>weathersit</th>\n",
       "      <th>temp</th>\n",
       "      <th>atemp</th>\n",
       "      <th>hum</th>\n",
       "      <th>windspeed</th>\n",
       "      <th>cnt</th>\n",
       "    </tr>\n",
       "  </thead>\n",
       "  <tbody>\n",
       "    <tr>\n",
       "      <th>0</th>\n",
       "      <td>spring</td>\n",
       "      <td>2011</td>\n",
       "      <td>Jan</td>\n",
       "      <td>No</td>\n",
       "      <td>Sat</td>\n",
       "      <td>No</td>\n",
       "      <td>Mist/Cloudy</td>\n",
       "      <td>8.175849</td>\n",
       "      <td>7.999250</td>\n",
       "      <td>80.5833</td>\n",
       "      <td>10.749882</td>\n",
       "      <td>985</td>\n",
       "    </tr>\n",
       "    <tr>\n",
       "      <th>1</th>\n",
       "      <td>spring</td>\n",
       "      <td>2011</td>\n",
       "      <td>Jan</td>\n",
       "      <td>No</td>\n",
       "      <td>Sun</td>\n",
       "      <td>No</td>\n",
       "      <td>Mist/Cloudy</td>\n",
       "      <td>9.083466</td>\n",
       "      <td>7.346774</td>\n",
       "      <td>69.6087</td>\n",
       "      <td>16.652113</td>\n",
       "      <td>801</td>\n",
       "    </tr>\n",
       "    <tr>\n",
       "      <th>2</th>\n",
       "      <td>spring</td>\n",
       "      <td>2011</td>\n",
       "      <td>Jan</td>\n",
       "      <td>No</td>\n",
       "      <td>Mon</td>\n",
       "      <td>Yes</td>\n",
       "      <td>Clear</td>\n",
       "      <td>1.229108</td>\n",
       "      <td>-3.499270</td>\n",
       "      <td>43.7273</td>\n",
       "      <td>16.636703</td>\n",
       "      <td>1349</td>\n",
       "    </tr>\n",
       "    <tr>\n",
       "      <th>3</th>\n",
       "      <td>spring</td>\n",
       "      <td>2011</td>\n",
       "      <td>Jan</td>\n",
       "      <td>No</td>\n",
       "      <td>Tue</td>\n",
       "      <td>Yes</td>\n",
       "      <td>Clear</td>\n",
       "      <td>1.400000</td>\n",
       "      <td>-1.999948</td>\n",
       "      <td>59.0435</td>\n",
       "      <td>10.739832</td>\n",
       "      <td>1562</td>\n",
       "    </tr>\n",
       "    <tr>\n",
       "      <th>4</th>\n",
       "      <td>spring</td>\n",
       "      <td>2011</td>\n",
       "      <td>Jan</td>\n",
       "      <td>No</td>\n",
       "      <td>Wed</td>\n",
       "      <td>Yes</td>\n",
       "      <td>Clear</td>\n",
       "      <td>2.666979</td>\n",
       "      <td>-0.868180</td>\n",
       "      <td>43.6957</td>\n",
       "      <td>12.522300</td>\n",
       "      <td>1600</td>\n",
       "    </tr>\n",
       "  </tbody>\n",
       "</table>\n",
       "</div>"
      ],
      "text/plain": [
       "   season    yr mnth holiday weekday workingday   weathersit      temp  \\\n",
       "0  spring  2011  Jan      No     Sat         No  Mist/Cloudy  8.175849   \n",
       "1  spring  2011  Jan      No     Sun         No  Mist/Cloudy  9.083466   \n",
       "2  spring  2011  Jan      No     Mon        Yes        Clear  1.229108   \n",
       "3  spring  2011  Jan      No     Tue        Yes        Clear  1.400000   \n",
       "4  spring  2011  Jan      No     Wed        Yes        Clear  2.666979   \n",
       "\n",
       "      atemp      hum  windspeed   cnt  \n",
       "0  7.999250  80.5833  10.749882   985  \n",
       "1  7.346774  69.6087  16.652113   801  \n",
       "2 -3.499270  43.7273  16.636703  1349  \n",
       "3 -1.999948  59.0435  10.739832  1562  \n",
       "4 -0.868180  43.6957  12.522300  1600  "
      ]
     },
     "execution_count": 72,
     "metadata": {},
     "output_type": "execute_result"
    }
   ],
   "source": [
    "#checking head\n",
    "day.head()"
   ]
  },
  {
   "cell_type": "code",
   "execution_count": 73,
   "metadata": {
    "scrolled": true
   },
   "outputs": [
    {
     "data": {
      "text/plain": [
       "season         object\n",
       "yr             object\n",
       "mnth           object\n",
       "holiday        object\n",
       "weekday        object\n",
       "workingday     object\n",
       "weathersit     object\n",
       "temp          float64\n",
       "atemp         float64\n",
       "hum           float64\n",
       "windspeed     float64\n",
       "cnt             int64\n",
       "dtype: object"
      ]
     },
     "execution_count": 73,
     "metadata": {},
     "output_type": "execute_result"
    }
   ],
   "source": [
    "#checking dtypes\n",
    "day.dtypes"
   ]
  },
  {
   "cell_type": "code",
   "execution_count": 29,
   "metadata": {},
   "outputs": [],
   "source": [
    "#write to disk\n",
    "day.to_csv(\"day_eda.csv\")"
   ]
  },
  {
   "cell_type": "markdown",
   "metadata": {},
   "source": [
    "## Visualizing the data\n",
    "\n",
    "Let us first visualize some variables and see how they affect the total count. For example, I wanted to see how **season** affects the bike rental count. I would also like to see how **mnth**, **holiday**, **weekday**, **workingday** and **weathersit** influence the final count, just to name a few variables. This is just a test to see if someone can predict the count more or less, depending on each of the above variables themselves. \n",
    "\n",
    "*Note - This proves nothing in the long run, as we are more concerned to find out how all the variables combine in the long run to predict the count.*"
   ]
  },
  {
   "cell_type": "code",
   "execution_count": 74,
   "metadata": {
    "scrolled": true
   },
   "outputs": [
    {
     "data": {
      "image/png": "[encoded data removed]",
      "text/plain": [
       "<Figure size 432x288 with 1 Axes>"
      ]
     },
     "metadata": {},
     "output_type": "display_data"
    }
   ],
   "source": [
    "#checking season vs cnt\n",
    "sns.set()\n",
    "ax = sns.barplot(x=day[\"season\"], y=day[\"cnt\"], hue=None, data = day, estimator = sum, ci = None)\n",
    "for p in ax.patches:\n",
    "    ax.annotate(format(p.get_height()), (p.get_x() + p.get_width() / 2., p.get_height()), ha = 'center', va = 'center', xytext = (0, 10), textcoords = 'offset points')"
   ]
  },
  {
   "cell_type": "markdown",
   "metadata": {},
   "source": [
    "The above plot shows that the maximum number of bike rentals come during the **fall** season, followed by **summer**, then **winter** and finally **spring**. This data can be used as a rough estimator of when the bike rental company can do let's say, maximum advertising/promotion, to make maximum profits."
   ]
  },
  {
   "cell_type": "code",
   "execution_count": 75,
   "metadata": {
    "scrolled": true
   },
   "outputs": [
    {
     "data": {
      "image/png": "[encoded data removed]",
      "text/plain": [
       "<Figure size 432x288 with 1 Axes>"
      ]
     },
     "metadata": {},
     "output_type": "display_data"
    }
   ],
   "source": [
    "#checking mnth vs cnt\n",
    "sns.set()\n",
    "ax = sns.barplot(x=day[\"mnth\"], y=day[\"cnt\"], hue=None, data = day, estimator = sum, ci = None)\n",
    "for p in ax.patches:\n",
    "    ax.annotate(format(p.get_height()), (p.get_x() + p.get_width() / 2., p.get_height()), ha = 'center', va = 'center', xytext = (0, 10), textcoords = 'offset points')"
   ]
  },
  {
   "cell_type": "markdown",
   "metadata": {},
   "source": [
    "The above plot shows that while the difference in counts is less obvious while moving from months like June to July or August to September, it is more obvious for other pairs like February and March or October and November. Thus in some cases a change in month does not affect the bike rental count, whereas in other cases it does."
   ]
  },
  {
   "cell_type": "code",
   "execution_count": 76,
   "metadata": {
    "scrolled": false
   },
   "outputs": [
    {
     "data": {
      "image/png": "[encoded data removed]",
      "text/plain": [
       "<Figure size 432x288 with 1 Axes>"
      ]
     },
     "metadata": {},
     "output_type": "display_data"
    }
   ],
   "source": [
    "#checking holiday vs cnt\n",
    "sns.set()\n",
    "ax = sns.barplot(x=day[\"holiday\"], y=day[\"cnt\"], hue=None, data = day, estimator = sum, ci = None)\n",
    "for p in ax.patches:\n",
    "    ax.annotate(format(p.get_height()), (p.get_x() + p.get_width() / 2., p.get_height()), ha = 'center', va = 'center', xytext = (0, 10), textcoords = 'offset points')"
   ]
  },
  {
   "cell_type": "markdown",
   "metadata": {},
   "source": [
    "The explanation for the above plot is as clear as day. If it is not a holiday, a very large number of people are expected to rent bikes, because they need to travel to their place of work, for example. During holidays, people generally like to chill out in their homes and take the day off."
   ]
  },
  {
   "cell_type": "code",
   "execution_count": 77,
   "metadata": {
    "scrolled": true
   },
   "outputs": [
    {
     "data": {
      "image/png": "[encoded data removed]",
      "text/plain": [
       "<Figure size 432x288 with 1 Axes>"
      ]
     },
     "metadata": {},
     "output_type": "display_data"
    }
   ],
   "source": [
    "#checking weekday vs cnt\n",
    "sns.set()\n",
    "ax = sns.barplot(x=day[\"weekday\"], y=day[\"cnt\"], hue=None, data = day, estimator = sum, ci = None)\n",
    "for p in ax.patches:\n",
    "    ax.annotate(format(p.get_height()), (p.get_x() + p.get_width() / 2., p.get_height()), ha = 'center', va = 'center', xytext = (0, 10), textcoords = 'offset points')"
   ]
  },
  {
   "cell_type": "markdown",
   "metadata": {},
   "source": [
    "The above plot confirms that comparison of renting of bikes with the day of the week is more or less the same, when it comes to distribution. This plot would be inconclusive for bike rental companies, as a change in the day of the week does not make a difference in the number of bikes rented."
   ]
  },
  {
   "cell_type": "code",
   "execution_count": 78,
   "metadata": {
    "scrolled": true
   },
   "outputs": [
    {
     "data": {
      "image/png": "[encoded data removed]",
      "text/plain": [
       "<Figure size 432x288 with 1 Axes>"
      ]
     },
     "metadata": {},
     "output_type": "display_data"
    }
   ],
   "source": [
    "#checking workingday vs cnt\n",
    "sns.set()\n",
    "ax = sns.barplot(x=day[\"workingday\"], y=day[\"cnt\"], hue=None, data = day, estimator = sum, ci = None)\n",
    "for p in ax.patches:\n",
    "    ax.annotate(format(p.get_height()), (p.get_x() + p.get_width() / 2., p.get_height()), ha = 'center', va = 'center', xytext = (0, 10), textcoords = 'offset points')"
   ]
  },
  {
   "cell_type": "markdown",
   "metadata": {},
   "source": [
    "The above plot also states the obvious in the sense that more people are expected to rent bikes on working days versus non-working days, for the same reason as mentioned above. On working days, people are expected to commute more."
   ]
  },
  {
   "cell_type": "code",
   "execution_count": 79,
   "metadata": {
    "scrolled": true
   },
   "outputs": [
    {
     "data": {
      "image/png": "[encoded data removed]",
      "text/plain": [
       "<Figure size 432x288 with 1 Axes>"
      ]
     },
     "metadata": {},
     "output_type": "display_data"
    }
   ],
   "source": [
    "#checking weather vs cnt\n",
    "sns.set()\n",
    "ax = sns.barplot(x=day[\"weathersit\"], y=day[\"cnt\"], hue=None, data = day, estimator = sum, ci = None)\n",
    "for p in ax.patches:\n",
    "    ax.annotate(format(p.get_height()), (p.get_x() + p.get_width() / 2., p.get_height()), ha = 'center', va = 'center', xytext = (0, 10), textcoords = 'offset points')"
   ]
  },
  {
   "cell_type": "markdown",
   "metadata": {},
   "source": [
    "As we can see, the maximum rentals are made when the weather is clear, followed by mist/cloudy conditions. And very less people travel by bikes during light snow/light rain. This fact is apparent by the above graph."
   ]
  },
  {
   "cell_type": "markdown",
   "metadata": {},
   "source": [
    "Now let us see the distribution of some **categorical** variables using barplots and distribution of some **continuous** variables using histograms, just to get a fair idea of the variables involved, and if they are normally distributed or not, or skewed or not."
   ]
  },
  {
   "cell_type": "code",
   "execution_count": 80,
   "metadata": {
    "scrolled": true
   },
   "outputs": [
    {
     "data": {
      "image/png": "[encoded data removed]",
      "text/plain": [
       "<Figure size 432x288 with 1 Axes>"
      ]
     },
     "metadata": {},
     "output_type": "display_data"
    }
   ],
   "source": [
    "##plotting some categorical variables first\n",
    "#plotting distribution of season\n",
    "sns.set()\n",
    "ax = sns.countplot(x=day[\"season\"], y=None, hue=None, data=day)\n",
    "for p in ax.patches:\n",
    "    ax.annotate(format(p.get_height()), (p.get_x() + p.get_width() / 2., p.get_height()), ha = 'center', va = 'center', xytext = (0, 10), textcoords = 'offset points')"
   ]
  },
  {
   "cell_type": "markdown",
   "metadata": {},
   "source": [
    "The above plot shows that the seasons are failry distributed, all having equal counts. This is because data from two full years were chosen for this operation."
   ]
  },
  {
   "cell_type": "code",
   "execution_count": 81,
   "metadata": {
    "scrolled": true
   },
   "outputs": [
    {
     "data": {
      "image/png": "[encoded data removed]",
      "text/plain": [
       "<Figure size 432x288 with 1 Axes>"
      ]
     },
     "metadata": {},
     "output_type": "display_data"
    }
   ],
   "source": [
    "#plotting distribution of workingday\n",
    "sns.set()\n",
    "ax = sns.countplot(x=day[\"workingday\"], y=None, hue=None, data=day)\n",
    "for p in ax.patches:\n",
    "    ax.annotate(format(p.get_height()), (p.get_x() + p.get_width() / 2., p.get_height()), ha = 'center', va = 'center', xytext = (0, 10), textcoords = 'offset points')"
   ]
  },
  {
   "cell_type": "markdown",
   "metadata": {},
   "source": [
    "The plot above shows that the number of working days is more than the number of non-working days for the two years, which is fairly obvious."
   ]
  },
  {
   "cell_type": "code",
   "execution_count": 82,
   "metadata": {
    "scrolled": true
   },
   "outputs": [
    {
     "data": {
      "image/png": "[encoded data removed]",
      "text/plain": [
       "<Figure size 432x288 with 1 Axes>"
      ]
     },
     "metadata": {},
     "output_type": "display_data"
    }
   ],
   "source": [
    "#plotting distribution of weather\n",
    "sns.set()\n",
    "ax = sns.countplot(x=day[\"weathersit\"], y=None, hue=None, data=day)\n",
    "for p in ax.patches:\n",
    "    ax.annotate(format(p.get_height()), (p.get_x() + p.get_width() / 2., p.get_height()), ha = 'center', va = 'center', xytext = (0, 10), textcoords = 'offset points')"
   ]
  },
  {
   "cell_type": "markdown",
   "metadata": {},
   "source": [
    "This shows that the number of days having clear weather were far greater in the dataset, followed by mist/cloudy conditions. Light snow/light rain had the lowest frequency."
   ]
  },
  {
   "cell_type": "code",
   "execution_count": 83,
   "metadata": {
    "scrolled": true
   },
   "outputs": [
    {
     "data": {
      "image/png": "[encoded data removed]",
      "text/plain": [
       "<Figure size 432x288 with 1 Axes>"
      ]
     },
     "metadata": {},
     "output_type": "display_data"
    }
   ],
   "source": [
    "##plotting continuous variables\n",
    "#plotting distribution of temp\n",
    "plt.hist(day[\"temp\"], normed=True, bins=30)\n",
    "plt.show()"
   ]
  },
  {
   "cell_type": "code",
   "execution_count": 84,
   "metadata": {
    "scrolled": false
   },
   "outputs": [
    {
     "data": {
      "image/png": "[encoded data removed]",
      "text/plain": [
       "<Figure size 432x288 with 1 Axes>"
      ]
     },
     "metadata": {},
     "output_type": "display_data"
    }
   ],
   "source": [
    "#plotting distribution of atemp\n",
    "plt.hist(day[\"atemp\"], normed=True, bins=30)\n",
    "plt.show()"
   ]
  },
  {
   "cell_type": "code",
   "execution_count": 85,
   "metadata": {},
   "outputs": [
    {
     "data": {
      "image/png": "[encoded data removed]",
      "text/plain": [
       "<Figure size 432x288 with 1 Axes>"
      ]
     },
     "metadata": {},
     "output_type": "display_data"
    }
   ],
   "source": [
    "#plotting distribution of hum\n",
    "plt.hist(day[\"hum\"], normed=True, bins=30)\n",
    "plt.show()"
   ]
  },
  {
   "cell_type": "code",
   "execution_count": 86,
   "metadata": {
    "scrolled": false
   },
   "outputs": [
    {
     "data": {
      "image/png": "[encoded data removed]",
      "text/plain": [
       "<Figure size 432x288 with 1 Axes>"
      ]
     },
     "metadata": {},
     "output_type": "display_data"
    }
   ],
   "source": [
    "#plotting distribution of windspeed\n",
    "plt.hist(day[\"windspeed\"], normed=True, bins=30)\n",
    "plt.show()"
   ]
  },
  {
   "cell_type": "markdown",
   "metadata": {},
   "source": [
    "The above histograms show that while **temp** and **atemp** do not show any skewness, **hum** shows some skewness towards the right and **windspeed** shows some skewness towards the left."
   ]
  },
  {
   "cell_type": "markdown",
   "metadata": {},
   "source": [
    "## Outlier Analysis"
   ]
  },
  {
   "cell_type": "markdown",
   "metadata": {},
   "source": [
    "Now that more or less all the variables have been visualized and a clearer picture has been obtained regarding how the different variables affect the count of bikes rented indivudually, I still need to figure out how all these variables combine together to affect the count. \n",
    "\n",
    "In order to go about this, let us first observe the presence of outliers in the data. Outlier analysis works on **continuous** variables only so I will only be working on those variables. We know that too may outliers can greatly affect the overall outcome, as they tend to bias the data towards one particular variable.\n",
    "\n",
    "To check outliers, let us first view boxplots for all **continuous** variables, namely **temp**, **atemp**, **hum** and **windspeed**."
   ]
  },
  {
   "cell_type": "code",
   "execution_count": 87,
   "metadata": {
    "scrolled": true
   },
   "outputs": [
    {
     "data": {
      "image/png": "[encoded data removed]",
      "text/plain": [
       "<Figure size 432x288 with 1 Axes>"
      ]
     },
     "metadata": {
      "needs_background": "light"
     },
     "output_type": "display_data"
    }
   ],
   "source": [
    "#boxplot for temp\n",
    "%matplotlib inline\n",
    "plt.boxplot(day[\"temp\"])\n",
    "plt.show()"
   ]
  },
  {
   "cell_type": "code",
   "execution_count": 88,
   "metadata": {
    "scrolled": true
   },
   "outputs": [
    {
     "data": {
      "image/png": "[encoded data removed]",
      "text/plain": [
       "<Figure size 432x288 with 1 Axes>"
      ]
     },
     "metadata": {
      "needs_background": "light"
     },
     "output_type": "display_data"
    }
   ],
   "source": [
    "#boxplot for atemp\n",
    "%matplotlib inline\n",
    "plt.boxplot(day[\"atemp\"])\n",
    "plt.show()"
   ]
  },
  {
   "cell_type": "code",
   "execution_count": 89,
   "metadata": {
    "scrolled": true
   },
   "outputs": [
    {
     "data": {
      "image/png": "[encoded data removed]",
      "text/plain": [
       "<Figure size 432x288 with 1 Axes>"
      ]
     },
     "metadata": {
      "needs_background": "light"
     },
     "output_type": "display_data"
    }
   ],
   "source": [
    "#boxplot for hum\n",
    "%matplotlib inline\n",
    "plt.boxplot(day[\"hum\"])\n",
    "plt.show()"
   ]
  },
  {
   "cell_type": "code",
   "execution_count": 90,
   "metadata": {
    "scrolled": true
   },
   "outputs": [
    {
     "data": {
      "image/png": "[encoded data removed]",
      "text/plain": [
       "<Figure size 432x288 with 1 Axes>"
      ]
     },
     "metadata": {
      "needs_background": "light"
     },
     "output_type": "display_data"
    }
   ],
   "source": [
    "#boxplot for windspeed\n",
    "%matplotlib inline\n",
    "plt.boxplot(day[\"windspeed\"])\n",
    "plt.show()"
   ]
  },
  {
   "cell_type": "markdown",
   "metadata": {},
   "source": [
    "From the above boxplots, we see that **temp** and **atemp** do NOT have any outliers, while **hum** and **windpeed** do. Let us explore **hum** and **windpeed** further by taking a look at their medians and percentiles and their unique values."
   ]
  },
  {
   "cell_type": "code",
   "execution_count": 91,
   "metadata": {
    "scrolled": true
   },
   "outputs": [
    {
     "name": "stdout",
     "output_type": "stream",
     "text": [
      "hum\n",
      "q75 =  73.02085 q25 =  52.0\n",
      "iqr =  21.020849999999996\n",
      "minimum =  20.468725000000006 maximum =  104.55212499999999\n",
      "windspeed\n",
      "q75 =  15.6253715 q25 =  9.041649999999999\n",
      "iqr =  6.583721500000001\n",
      "minimum =  -0.8339322500000019 maximum =  25.50095375\n"
     ]
    }
   ],
   "source": [
    "#checking medians and percentiles\n",
    "for i in [\"hum\", \"windspeed\"]:\n",
    "    print(i)\n",
    "    q75, q25 = np.percentile(day[i], [75, 25])\n",
    "    print(\"q75 = \", q75, \"q25 = \", q25)\n",
    "    iqr = q75 - q25\n",
    "    print(\"iqr = \",iqr)\n",
    "    mini = q25 - (iqr * 1.5)\n",
    "    maxi = q75 + (iqr * 1.5)\n",
    "    print(\"minimum = \",mini, \"maximum = \",maxi)"
   ]
  },
  {
   "cell_type": "code",
   "execution_count": 92,
   "metadata": {
    "scrolled": true
   },
   "outputs": [
    {
     "name": "stdout",
     "output_type": "stream",
     "text": [
      "(-0.0982, 19.45]      2\n",
      "(19.45, 38.9]        21\n",
      "(77.8, 97.25]       107\n",
      "(38.9, 58.35]       268\n",
      "(58.35, 77.8]       333\n",
      "Name: hum, dtype: int64\n",
      "(10.786, 15.429]    253\n",
      "(6.143, 10.786]     225\n",
      "(15.429, 20.072]    123\n",
      "(1.467, 6.143]       59\n",
      "(20.072, 24.714]     54\n",
      "(24.714, 29.357]     15\n",
      "(29.357, 34.0]        2\n",
      "Name: windspeed, dtype: int64\n"
     ]
    }
   ],
   "source": [
    "#checking unique values using bins\n",
    "print(day[\"hum\"].value_counts(ascending = True, bins = 5))\n",
    "print(day[\"windspeed\"].value_counts(ascending = False, bins = 7))"
   ]
  },
  {
   "cell_type": "markdown",
   "metadata": {},
   "source": [
    "We can see that, for **hum**, the boxplot shows that it has two ouutliers, and both lie below 20.46, which is the minimum value. Taking a look at the bins, we can confirm this fact. Only 2 values lie in the interval (-0.0982, 19.45]. So we do NOT need to remove these outliers because there are only two of them.\n",
    "\n",
    "However, **windspeed** has a lot more outliers, all of which are greater than 25.50, the maximum value. Let us see how many."
   ]
  },
  {
   "cell_type": "code",
   "execution_count": 93,
   "metadata": {
    "scrolled": true
   },
   "outputs": [
    {
     "name": "stdout",
     "output_type": "stream",
     "text": [
      "27.999836\n",
      "34.000021\n",
      "25.833257\n",
      "26.000488999999998\n",
      "28.292425\n",
      "27.833743\n",
      "27.417203999999998\n",
      "28.250014\n",
      "29.584721\n",
      "27.7916\n",
      "25.917007\n",
      "26.666535999999997\n",
      "27.292182\n",
      "\n",
      "Total number of outliers = 13\n"
     ]
    }
   ],
   "source": [
    "#checking how many outliers windspeed has\n",
    "j = 0\n",
    "for i in day[\"windspeed\"]:\n",
    "    if i > maxi:\n",
    "        print(i)\n",
    "        j += 1\n",
    "print(\"\\nTotal number of outliers =\", j)"
   ]
  },
  {
   "cell_type": "markdown",
   "metadata": {},
   "source": [
    "So we see there are 13 outliers in **windspeed**. 13 outliers out of a total number of 731 observations is not bad, but still let us fix that just to get an improvement. First I will remove the outliers and make them NaN."
   ]
  },
  {
   "cell_type": "code",
   "execution_count": 94,
   "metadata": {},
   "outputs": [],
   "source": [
    "#let us save a copy first\n",
    "safe = day.copy()"
   ]
  },
  {
   "cell_type": "code",
   "execution_count": 95,
   "metadata": {
    "scrolled": true
   },
   "outputs": [
    {
     "data": {
      "text/plain": [
       "13"
      ]
     },
     "execution_count": 95,
     "metadata": {},
     "output_type": "execute_result"
    }
   ],
   "source": [
    "#making all outliers NaN\n",
    "for i in range(0, len(day)): #row ops\n",
    "    if day[\"windspeed\"].loc[i] > maxi or day[\"windspeed\"].loc[i] < mini:\n",
    "        day[\"windspeed\"].loc[i] = np.nan\n",
    "\n",
    "#verifying number of NaNs\n",
    "day[\"windspeed\"].isnull().sum()"
   ]
  },
  {
   "cell_type": "markdown",
   "metadata": {},
   "source": [
    "Now I will make one particular value NaN and check by imputing the median, and then the mean. Let us see which gives a more accurate result."
   ]
  },
  {
   "cell_type": "code",
   "execution_count": 96,
   "metadata": {},
   "outputs": [
    {
     "data": {
      "text/plain": [
       "15.375093"
      ]
     },
     "execution_count": 96,
     "metadata": {},
     "output_type": "execute_result"
    }
   ],
   "source": [
    "#checking one particular value\n",
    "day[\"windspeed\"][300]"
   ]
  },
  {
   "cell_type": "code",
   "execution_count": 97,
   "metadata": {
    "scrolled": true
   },
   "outputs": [
    {
     "name": "stderr",
     "output_type": "stream",
     "text": [
      "C:\\Users\\Saurav\\Anaconda3\\lib\\site-packages\\ipykernel_launcher.py:2: SettingWithCopyWarning: \n",
      "A value is trying to be set on a copy of a slice from a DataFrame\n",
      "\n",
      "See the caveats in the documentation: http://pandas.pydata.org/pandas-docs/stable/user_guide/indexing.html#returning-a-view-versus-a-copy\n",
      "  \n"
     ]
    }
   ],
   "source": [
    "#making it NaN\n",
    "day[\"windspeed\"][300] = np.nan"
   ]
  },
  {
   "cell_type": "code",
   "execution_count": 98,
   "metadata": {},
   "outputs": [],
   "source": [
    "#imputing with median\n",
    "day[\"windspeed\"] = day[\"windspeed\"].fillna(day[\"windspeed\"].median())"
   ]
  },
  {
   "cell_type": "code",
   "execution_count": 99,
   "metadata": {},
   "outputs": [
    {
     "data": {
      "text/plain": [
       "11.959232000000002"
      ]
     },
     "execution_count": 99,
     "metadata": {},
     "output_type": "execute_result"
    }
   ],
   "source": [
    "#checking 300th value\n",
    "day[\"windspeed\"][300]"
   ]
  },
  {
   "cell_type": "markdown",
   "metadata": {},
   "source": [
    "The median imputation gives a value of 11.95."
   ]
  },
  {
   "cell_type": "code",
   "execution_count": 100,
   "metadata": {},
   "outputs": [],
   "source": [
    "#loading from safe\n",
    "day = safe.copy()"
   ]
  },
  {
   "cell_type": "code",
   "execution_count": 101,
   "metadata": {},
   "outputs": [
    {
     "data": {
      "text/plain": [
       "13"
      ]
     },
     "execution_count": 101,
     "metadata": {},
     "output_type": "execute_result"
    }
   ],
   "source": [
    "#making all outliers NaN\n",
    "for i in range(0, len(day)): #row ops\n",
    "    if day[\"windspeed\"].loc[i] > maxi or day[\"windspeed\"].loc[i] < mini:\n",
    "        day[\"windspeed\"].loc[i] = np.nan\n",
    "\n",
    "#verifying number of NaNs\n",
    "day[\"windspeed\"].isnull().sum()"
   ]
  },
  {
   "cell_type": "code",
   "execution_count": 102,
   "metadata": {},
   "outputs": [
    {
     "data": {
      "text/plain": [
       "15.375093"
      ]
     },
     "execution_count": 102,
     "metadata": {},
     "output_type": "execute_result"
    }
   ],
   "source": [
    "#checking a particular value\n",
    "day[\"windspeed\"][300]"
   ]
  },
  {
   "cell_type": "code",
   "execution_count": 103,
   "metadata": {},
   "outputs": [
    {
     "name": "stderr",
     "output_type": "stream",
     "text": [
      "C:\\Users\\Saurav\\Anaconda3\\lib\\site-packages\\ipykernel_launcher.py:2: SettingWithCopyWarning: \n",
      "A value is trying to be set on a copy of a slice from a DataFrame\n",
      "\n",
      "See the caveats in the documentation: http://pandas.pydata.org/pandas-docs/stable/user_guide/indexing.html#returning-a-view-versus-a-copy\n",
      "  \n"
     ]
    }
   ],
   "source": [
    "#making it NaN\n",
    "day[\"windspeed\"][300] = np.nan"
   ]
  },
  {
   "cell_type": "code",
   "execution_count": 104,
   "metadata": {},
   "outputs": [],
   "source": [
    "#imputing with mean\n",
    "day[\"windspeed\"] = day[\"windspeed\"].fillna(day[\"windspeed\"].mean())"
   ]
  },
  {
   "cell_type": "code",
   "execution_count": 105,
   "metadata": {},
   "outputs": [
    {
     "data": {
      "text/plain": [
       "12.48422462887029"
      ]
     },
     "execution_count": 105,
     "metadata": {},
     "output_type": "execute_result"
    }
   ],
   "source": [
    "#checking 300th value\n",
    "day[\"windspeed\"][300]"
   ]
  },
  {
   "cell_type": "markdown",
   "metadata": {},
   "source": [
    "The mean imputation gives a value of 12.48."
   ]
  },
  {
   "cell_type": "markdown",
   "metadata": {},
   "source": [
    "We see here that the original 300th value was 15.37. After imputing with the **median** method, its new value was 11.95. However, the **mean** method gave us a new value of 12.48. So clearly, the mean method is the more accurate one. So we will freeze that method. \n",
    "\n",
    "I will replace the 300th value with its original value of 15.37 and then save this file in my system."
   ]
  },
  {
   "cell_type": "code",
   "execution_count": 106,
   "metadata": {
    "scrolled": true
   },
   "outputs": [
    {
     "name": "stderr",
     "output_type": "stream",
     "text": [
      "C:\\Users\\Saurav\\Anaconda3\\lib\\site-packages\\ipykernel_launcher.py:2: SettingWithCopyWarning: \n",
      "A value is trying to be set on a copy of a slice from a DataFrame\n",
      "\n",
      "See the caveats in the documentation: http://pandas.pydata.org/pandas-docs/stable/user_guide/indexing.html#returning-a-view-versus-a-copy\n",
      "  \n"
     ]
    }
   ],
   "source": [
    "#replacing 300th value with original value\n",
    "day[\"windspeed\"][300] = 15.375093\n",
    "\n",
    "#writing file to disk\n",
    "day.to_csv(\"day_after_outlieranalysis.csv\")"
   ]
  },
  {
   "cell_type": "markdown",
   "metadata": {},
   "source": [
    "## Feature Selection\n",
    "\n",
    "Here we do **correlation analysis** for continuous variables and eliminate if necessary. We do **chi-square test** for categorical variables and eliminate if necessary."
   ]
  },
  {
   "cell_type": "code",
   "execution_count": 107,
   "metadata": {
    "scrolled": true
   },
   "outputs": [
    {
     "data": {
      "text/html": [
       "<div>\n",
       "<style scoped>\n",
       "    .dataframe tbody tr th:only-of-type {\n",
       "        vertical-align: middle;\n",
       "    }\n",
       "\n",
       "    .dataframe tbody tr th {\n",
       "        vertical-align: top;\n",
       "    }\n",
       "\n",
       "    .dataframe thead th {\n",
       "        text-align: right;\n",
       "    }\n",
       "</style>\n",
       "<table border=\"1\" class=\"dataframe\">\n",
       "  <thead>\n",
       "    <tr style=\"text-align: right;\">\n",
       "      <th></th>\n",
       "      <th>season</th>\n",
       "      <th>yr</th>\n",
       "      <th>mnth</th>\n",
       "      <th>holiday</th>\n",
       "      <th>weekday</th>\n",
       "      <th>workingday</th>\n",
       "      <th>weathersit</th>\n",
       "      <th>temp</th>\n",
       "      <th>atemp</th>\n",
       "      <th>hum</th>\n",
       "      <th>windspeed</th>\n",
       "      <th>cnt</th>\n",
       "    </tr>\n",
       "  </thead>\n",
       "  <tbody>\n",
       "    <tr>\n",
       "      <th>0</th>\n",
       "      <td>spring</td>\n",
       "      <td>2011</td>\n",
       "      <td>Jan</td>\n",
       "      <td>No</td>\n",
       "      <td>Sat</td>\n",
       "      <td>No</td>\n",
       "      <td>Mist/Cloudy</td>\n",
       "      <td>8.175849</td>\n",
       "      <td>7.999250</td>\n",
       "      <td>80.5833</td>\n",
       "      <td>10.749882</td>\n",
       "      <td>985</td>\n",
       "    </tr>\n",
       "    <tr>\n",
       "      <th>1</th>\n",
       "      <td>spring</td>\n",
       "      <td>2011</td>\n",
       "      <td>Jan</td>\n",
       "      <td>No</td>\n",
       "      <td>Sun</td>\n",
       "      <td>No</td>\n",
       "      <td>Mist/Cloudy</td>\n",
       "      <td>9.083466</td>\n",
       "      <td>7.346774</td>\n",
       "      <td>69.6087</td>\n",
       "      <td>16.652113</td>\n",
       "      <td>801</td>\n",
       "    </tr>\n",
       "    <tr>\n",
       "      <th>2</th>\n",
       "      <td>spring</td>\n",
       "      <td>2011</td>\n",
       "      <td>Jan</td>\n",
       "      <td>No</td>\n",
       "      <td>Mon</td>\n",
       "      <td>Yes</td>\n",
       "      <td>Clear</td>\n",
       "      <td>1.229108</td>\n",
       "      <td>-3.499270</td>\n",
       "      <td>43.7273</td>\n",
       "      <td>16.636703</td>\n",
       "      <td>1349</td>\n",
       "    </tr>\n",
       "    <tr>\n",
       "      <th>3</th>\n",
       "      <td>spring</td>\n",
       "      <td>2011</td>\n",
       "      <td>Jan</td>\n",
       "      <td>No</td>\n",
       "      <td>Tue</td>\n",
       "      <td>Yes</td>\n",
       "      <td>Clear</td>\n",
       "      <td>1.400000</td>\n",
       "      <td>-1.999948</td>\n",
       "      <td>59.0435</td>\n",
       "      <td>10.739832</td>\n",
       "      <td>1562</td>\n",
       "    </tr>\n",
       "    <tr>\n",
       "      <th>4</th>\n",
       "      <td>spring</td>\n",
       "      <td>2011</td>\n",
       "      <td>Jan</td>\n",
       "      <td>No</td>\n",
       "      <td>Wed</td>\n",
       "      <td>Yes</td>\n",
       "      <td>Clear</td>\n",
       "      <td>2.666979</td>\n",
       "      <td>-0.868180</td>\n",
       "      <td>43.6957</td>\n",
       "      <td>12.522300</td>\n",
       "      <td>1600</td>\n",
       "    </tr>\n",
       "  </tbody>\n",
       "</table>\n",
       "</div>"
      ],
      "text/plain": [
       "   season    yr mnth holiday weekday workingday   weathersit      temp  \\\n",
       "0  spring  2011  Jan      No     Sat         No  Mist/Cloudy  8.175849   \n",
       "1  spring  2011  Jan      No     Sun         No  Mist/Cloudy  9.083466   \n",
       "2  spring  2011  Jan      No     Mon        Yes        Clear  1.229108   \n",
       "3  spring  2011  Jan      No     Tue        Yes        Clear  1.400000   \n",
       "4  spring  2011  Jan      No     Wed        Yes        Clear  2.666979   \n",
       "\n",
       "      atemp      hum  windspeed   cnt  \n",
       "0  7.999250  80.5833  10.749882   985  \n",
       "1  7.346774  69.6087  16.652113   801  \n",
       "2 -3.499270  43.7273  16.636703  1349  \n",
       "3 -1.999948  59.0435  10.739832  1562  \n",
       "4 -0.868180  43.6957  12.522300  1600  "
      ]
     },
     "execution_count": 107,
     "metadata": {},
     "output_type": "execute_result"
    }
   ],
   "source": [
    "#checking head now\n",
    "day.head()"
   ]
  },
  {
   "cell_type": "markdown",
   "metadata": {},
   "source": [
    "In order to check for multicollinearity, first I am storing the names of all continuous variables in **cont** and categorical variables in **categ**.\n",
    "\n",
    "Then, I am splitting the entire dataset into two parts, **sub_cont** has all the continuous variables and **sub_categ** has all the categorical variables."
   ]
  },
  {
   "cell_type": "code",
   "execution_count": 108,
   "metadata": {},
   "outputs": [],
   "source": [
    "#splitting up column names into cont and categ\n",
    "cont = [\"temp\", \"atemp\", \"hum\", \"windspeed\", \"cnt\"]\n",
    "categ = [\"season\", \"yr\", \"mnth\", \"holiday\", \"weekday\", \"workingday\", \"weathersit\"]\n",
    "\n",
    "#subsetting out day into datasets having continuous and categorical variables\n",
    "sub_cont = day.loc[:, cont]\n",
    "sub_categ= day.loc[:, categ]"
   ]
  },
  {
   "cell_type": "markdown",
   "metadata": {},
   "source": [
    "Now, let us build a **correlation plot** including all the **continuous** variables."
   ]
  },
  {
   "cell_type": "code",
   "execution_count": 109,
   "metadata": {
    "scrolled": true
   },
   "outputs": [
    {
     "data": {
      "text/plain": [
       "<matplotlib.axes._subplots.AxesSubplot at 0x2b995143a20>"
      ]
     },
     "execution_count": 109,
     "metadata": {},
     "output_type": "execute_result"
    },
    {
     "data": {
      "image/png": "[encoded data removed]",
      "text/plain": [
       "<Figure size 504x360 with 2 Axes>"
      ]
     },
     "metadata": {
      "needs_background": "light"
     },
     "output_type": "display_data"
    }
   ],
   "source": [
    "##building correlation plot\n",
    "#setting width and height of plot\n",
    "f, ax = plt.subplots(figsize = (7, 5))\n",
    "\n",
    "#generate the correlation matrix\n",
    "corr = sub_cont.corr()\n",
    "\n",
    "#putting corr into perspective via heatmap\n",
    "sns.heatmap(corr, mask = np.zeros_like(corr, dtype = np.bool), cmap = sns.diverging_palette(220, 10, as_cmap = True), square = True, ax = ax, annot = True, cbar = True)\n",
    "\n"
   ]
  },
  {
   "cell_type": "markdown",
   "metadata": {},
   "source": [
    "One of the major takeaways from the above correlation plot is that **temp** and **atemp** are highly correlated as their correlation value is 0.99. This makes sense because the feeling temperature will generally be closer to the actual temperature, and as such the feeling temperature on its own will not determine if a person would rent a bike or not. So **atemp** can be dropped.\n",
    "\n",
    "Generally speaking, all other independent variables here (**temp**, **hum** and **windspeed**) do not have high collinearity with each other. This indicates that these three do NOT depend on each other and can stay in that regard.\n",
    "\n",
    "Another aspect to consider here is the dependancy of each independent variable with the dependent variable **cnt**. Here, **temp** has a dependency of 0.63 with **cnt**, this means that **temp** is an actual influencer on **cnt**, and it needs to stay. But the same cannot be said for **hum** and **windspeed**. Both these variables have very low dependency on **cnt**. This essentially means that **hum** and **windspeed** cannot really explain **cnt** well. They do not really affect the count. Owing to this, **hum** and **windspeed** can be dropped."
   ]
  },
  {
   "cell_type": "code",
   "execution_count": 110,
   "metadata": {},
   "outputs": [],
   "source": [
    "#saving to disk before the drop\n",
    "day.to_csv(\"before_drop_12.csv\")"
   ]
  },
  {
   "cell_type": "code",
   "execution_count": 110,
   "metadata": {},
   "outputs": [],
   "source": [
    "#dropping atemp, hum and windspeed\n",
    "day = day.drop([\"atemp\", \"hum\", \"windspeed\"], axis = 1)"
   ]
  },
  {
   "cell_type": "code",
   "execution_count": 111,
   "metadata": {},
   "outputs": [
    {
     "data": {
      "text/plain": [
       "(731, 9)"
      ]
     },
     "execution_count": 111,
     "metadata": {},
     "output_type": "execute_result"
    }
   ],
   "source": [
    "#checking new shape\n",
    "day.shape"
   ]
  },
  {
   "cell_type": "code",
   "execution_count": 112,
   "metadata": {
    "scrolled": true
   },
   "outputs": [
    {
     "data": {
      "text/html": [
       "<div>\n",
       "<style scoped>\n",
       "    .dataframe tbody tr th:only-of-type {\n",
       "        vertical-align: middle;\n",
       "    }\n",
       "\n",
       "    .dataframe tbody tr th {\n",
       "        vertical-align: top;\n",
       "    }\n",
       "\n",
       "    .dataframe thead th {\n",
       "        text-align: right;\n",
       "    }\n",
       "</style>\n",
       "<table border=\"1\" class=\"dataframe\">\n",
       "  <thead>\n",
       "    <tr style=\"text-align: right;\">\n",
       "      <th></th>\n",
       "      <th>season</th>\n",
       "      <th>yr</th>\n",
       "      <th>mnth</th>\n",
       "      <th>holiday</th>\n",
       "      <th>weekday</th>\n",
       "      <th>workingday</th>\n",
       "      <th>weathersit</th>\n",
       "      <th>temp</th>\n",
       "      <th>cnt</th>\n",
       "    </tr>\n",
       "  </thead>\n",
       "  <tbody>\n",
       "    <tr>\n",
       "      <th>0</th>\n",
       "      <td>spring</td>\n",
       "      <td>2011</td>\n",
       "      <td>Jan</td>\n",
       "      <td>No</td>\n",
       "      <td>Sat</td>\n",
       "      <td>No</td>\n",
       "      <td>Mist/Cloudy</td>\n",
       "      <td>8.175849</td>\n",
       "      <td>985</td>\n",
       "    </tr>\n",
       "    <tr>\n",
       "      <th>1</th>\n",
       "      <td>spring</td>\n",
       "      <td>2011</td>\n",
       "      <td>Jan</td>\n",
       "      <td>No</td>\n",
       "      <td>Sun</td>\n",
       "      <td>No</td>\n",
       "      <td>Mist/Cloudy</td>\n",
       "      <td>9.083466</td>\n",
       "      <td>801</td>\n",
       "    </tr>\n",
       "    <tr>\n",
       "      <th>2</th>\n",
       "      <td>spring</td>\n",
       "      <td>2011</td>\n",
       "      <td>Jan</td>\n",
       "      <td>No</td>\n",
       "      <td>Mon</td>\n",
       "      <td>Yes</td>\n",
       "      <td>Clear</td>\n",
       "      <td>1.229108</td>\n",
       "      <td>1349</td>\n",
       "    </tr>\n",
       "    <tr>\n",
       "      <th>3</th>\n",
       "      <td>spring</td>\n",
       "      <td>2011</td>\n",
       "      <td>Jan</td>\n",
       "      <td>No</td>\n",
       "      <td>Tue</td>\n",
       "      <td>Yes</td>\n",
       "      <td>Clear</td>\n",
       "      <td>1.400000</td>\n",
       "      <td>1562</td>\n",
       "    </tr>\n",
       "    <tr>\n",
       "      <th>4</th>\n",
       "      <td>spring</td>\n",
       "      <td>2011</td>\n",
       "      <td>Jan</td>\n",
       "      <td>No</td>\n",
       "      <td>Wed</td>\n",
       "      <td>Yes</td>\n",
       "      <td>Clear</td>\n",
       "      <td>2.666979</td>\n",
       "      <td>1600</td>\n",
       "    </tr>\n",
       "  </tbody>\n",
       "</table>\n",
       "</div>"
      ],
      "text/plain": [
       "   season    yr mnth holiday weekday workingday   weathersit      temp   cnt\n",
       "0  spring  2011  Jan      No     Sat         No  Mist/Cloudy  8.175849   985\n",
       "1  spring  2011  Jan      No     Sun         No  Mist/Cloudy  9.083466   801\n",
       "2  spring  2011  Jan      No     Mon        Yes        Clear  1.229108  1349\n",
       "3  spring  2011  Jan      No     Tue        Yes        Clear  1.400000  1562\n",
       "4  spring  2011  Jan      No     Wed        Yes        Clear  2.666979  1600"
      ]
     },
     "execution_count": 112,
     "metadata": {},
     "output_type": "execute_result"
    }
   ],
   "source": [
    "#checking new head\n",
    "day.head()"
   ]
  },
  {
   "cell_type": "code",
   "execution_count": 121,
   "metadata": {},
   "outputs": [],
   "source": [
    "#saving to disk after cont drop\n",
    "day.to_csv(\"cont_dropped_9.csv\")"
   ]
  },
  {
   "cell_type": "markdown",
   "metadata": {},
   "source": [
    "Now, let us implement a **chi-square test** for all the **categorical** variables."
   ]
  },
  {
   "cell_type": "code",
   "execution_count": 113,
   "metadata": {
    "scrolled": false
   },
   "outputs": [
    {
     "name": "stdout",
     "output_type": "stream",
     "text": [
      "\n",
      "Chi-square test for:  season\n",
      "season : 0.0\n",
      "yr : 0.9999288084245916\n",
      "mnth : 0.0\n",
      "holiday : 0.6831687073042003\n",
      "weekday : 0.9999999999988407\n",
      "workingday : 0.8865568364019545\n",
      "weathersit : 0.02117930104473366\n",
      "\n",
      "Chi-square test for:  yr\n",
      "season : 0.9999288084245916\n",
      "yr : 4.0118539920135064e-160\n",
      "mnth : 0.9999999999999892\n",
      "holiday : 0.9949247279855291\n",
      "weekday : 0.9999995848511959\n",
      "workingday : 0.9799434134248637\n",
      "weathersit : 0.12737941480418666\n",
      "\n",
      "Chi-square test for:  mnth\n",
      "season : 0.0\n",
      "yr : 0.9999999999999892\n",
      "mnth : 0.0\n",
      "holiday : 0.5593083086035064\n",
      "weekday : 1.0\n",
      "workingday : 0.9933495217919545\n",
      "weathersit : 0.014637111771019139\n",
      "\n",
      "Chi-square test for:  holiday\n",
      "season : 0.6831687073042005\n",
      "yr : 0.9949247279855291\n",
      "mnth : 0.5593083086035064\n",
      "holiday : 2.70694538395451e-153\n",
      "weekday : 8.567055344615697e-11\n",
      "workingday : 4.033370935452143e-11\n",
      "weathersit : 0.6008572213448835\n",
      "\n",
      "Chi-square test for:  weekday\n",
      "season : 0.9999999999988407\n",
      "yr : 0.9999995848511959\n",
      "mnth : 1.0\n",
      "holiday : 8.567055344615667e-11\n",
      "weekday : 0.0\n",
      "workingday : 6.775030505809736e-136\n",
      "weathersit : 0.27845933074505175\n",
      "\n",
      "Chi-square test for:  workingday\n",
      "season : 0.8865568364019545\n",
      "yr : 0.9799434134248637\n",
      "mnth : 0.9933495217919545\n",
      "holiday : 4.033370935452143e-11\n",
      "weekday : 6.775030505809736e-136\n",
      "workingday : 5.484935161027171e-160\n",
      "weathersit : 0.2537639982644043\n",
      "\n",
      "Chi-square test for:  weathersit\n",
      "season : 0.02117930104473366\n",
      "yr : 0.12737941480418657\n",
      "mnth : 0.014637111771019139\n",
      "holiday : 0.6008572213448835\n",
      "weekday : 0.27845933074505175\n",
      "workingday : 0.2537639982644043\n",
      "weathersit : 0.0\n"
     ]
    }
   ],
   "source": [
    "#chi-square test for categorical\n",
    "for i in categ:\n",
    "    print(\"\\nChi-square test for: \", i)\n",
    "    for j in categ:\n",
    "        chi2, p, dof, ex = chi2_contingency(pd.crosstab(day[i], day[j]))\n",
    "        print(j, \":\", p)\n",
    "        "
   ]
  },
  {
   "cell_type": "markdown",
   "metadata": {},
   "source": [
    "If p < 0.05, that means that **alternate hypothesis** is true, meaning there is **dependency** between two independent variables. And we don't want that. We want two independent variables to be as independent from each other as possible. \n",
    "\n",
    "The following are the pairs which give a p-value of less than 0.05. Let us take a look at their respective p-values and see what we can do about these.\n",
    "\n",
    "season mnth 0.0\n",
    "\n",
    "season weathersit 0.021\n",
    "\n",
    "mnth weathersit 0.014\n",
    "\n",
    "holiday weekday 8.57e-11\n",
    "\n",
    "holiday workingday 4.03e-11\n",
    "\n",
    "weekday workingday 6.77e-136\n",
    "\n",
    "Judging from the above p-values, **weathersit**, **season** and **mnth** have high dependancy. It makes sense because based on the season and month, one can make a prediction without really knowing about the weather. However, I would keep **weathersit** because sometimes in real life, we can expect some kind of weird behavior in the weather. For example, here in Bengaluru during this time of the year, the weather can really be unpredictable at times. One moment it is as clear as day, the other moment it just rains cats and dogs. This kind of behavior can really impact the moods of people who are renting bikes. So let us keep that. I would also keep **mnth** because as can be seen in the plot of **mnth** vs **cnt**, the number of bike rentals of two consecutive months cannot really be explained well as in some cases the change is more as compared to other cases where the change is less.\n",
    "\n",
    "Another important point is that **holiday**, **weekday** and **workingday** seem to be highly dependent on each other. One or two of these may need to be dropped. Let us take a look again at how these three variables affect count with the help of bar plots.\n",
    "\n"
   ]
  },
  {
   "cell_type": "code",
   "execution_count": 114,
   "metadata": {},
   "outputs": [
    {
     "data": {
      "image/png": "[encoded data removed]",
      "text/plain": [
       "<Figure size 432x288 with 1 Axes>"
      ]
     },
     "metadata": {},
     "output_type": "display_data"
    }
   ],
   "source": [
    "#checking holiday vs cnt\n",
    "sns.set()\n",
    "ax = sns.barplot(x=day[\"holiday\"], y=day[\"cnt\"], hue=None, data = day, estimator = sum, ci = None)\n",
    "for p in ax.patches:\n",
    "    ax.annotate(format(p.get_height()), (p.get_x() + p.get_width() / 2., p.get_height()), ha = 'center', va = 'center', xytext = (0, 10), textcoords = 'offset points')"
   ]
  },
  {
   "cell_type": "code",
   "execution_count": 115,
   "metadata": {},
   "outputs": [
    {
     "data": {
      "image/png": "[encoded data removed]",
      "text/plain": [
       "<Figure size 432x288 with 1 Axes>"
      ]
     },
     "metadata": {},
     "output_type": "display_data"
    }
   ],
   "source": [
    "#checking weekday vs cnt\n",
    "sns.set()\n",
    "ax = sns.barplot(x=day[\"weekday\"], y=day[\"cnt\"], hue=None, data = day, estimator = sum, ci = None)\n",
    "for p in ax.patches:\n",
    "    ax.annotate(format(p.get_height()), (p.get_x() + p.get_width() / 2., p.get_height()), ha = 'center', va = 'center', xytext = (0, 10), textcoords = 'offset points')"
   ]
  },
  {
   "cell_type": "code",
   "execution_count": 116,
   "metadata": {
    "scrolled": false
   },
   "outputs": [
    {
     "data": {
      "image/png": "[encoded data removed]",
      "text/plain": [
       "<Figure size 432x288 with 1 Axes>"
      ]
     },
     "metadata": {},
     "output_type": "display_data"
    }
   ],
   "source": [
    "#checking workingday vs cnt\n",
    "sns.set()\n",
    "ax = sns.barplot(x=day[\"workingday\"], y=day[\"cnt\"], hue=None, data = day, estimator = sum, ci = None)\n",
    "for p in ax.patches:\n",
    "    ax.annotate(format(p.get_height()), (p.get_x() + p.get_width() / 2., p.get_height()), ha = 'center', va = 'center', xytext = (0, 10), textcoords = 'offset points')"
   ]
  },
  {
   "cell_type": "markdown",
   "metadata": {},
   "source": [
    "Based on the above plots, **holiday** and **workingday** seem to have a higher impact on overall **cnt** as opposed to **weekday**. So **weekday** can be eliminated out of these three as it does not have any conclusive influence. Let us drop **weekday** but keep **holiday** and **workingday**."
   ]
  },
  {
   "cell_type": "code",
   "execution_count": 117,
   "metadata": {},
   "outputs": [],
   "source": [
    "#dropping weekday\n",
    "day = day.drop([\"weekday\"], axis = 1)"
   ]
  },
  {
   "cell_type": "code",
   "execution_count": 118,
   "metadata": {},
   "outputs": [
    {
     "data": {
      "text/plain": [
       "(731, 8)"
      ]
     },
     "execution_count": 118,
     "metadata": {},
     "output_type": "execute_result"
    }
   ],
   "source": [
    "#checking new shape\n",
    "day.shape"
   ]
  },
  {
   "cell_type": "code",
   "execution_count": 119,
   "metadata": {},
   "outputs": [
    {
     "data": {
      "text/html": [
       "<div>\n",
       "<style scoped>\n",
       "    .dataframe tbody tr th:only-of-type {\n",
       "        vertical-align: middle;\n",
       "    }\n",
       "\n",
       "    .dataframe tbody tr th {\n",
       "        vertical-align: top;\n",
       "    }\n",
       "\n",
       "    .dataframe thead th {\n",
       "        text-align: right;\n",
       "    }\n",
       "</style>\n",
       "<table border=\"1\" class=\"dataframe\">\n",
       "  <thead>\n",
       "    <tr style=\"text-align: right;\">\n",
       "      <th></th>\n",
       "      <th>season</th>\n",
       "      <th>yr</th>\n",
       "      <th>mnth</th>\n",
       "      <th>holiday</th>\n",
       "      <th>workingday</th>\n",
       "      <th>weathersit</th>\n",
       "      <th>temp</th>\n",
       "      <th>cnt</th>\n",
       "    </tr>\n",
       "  </thead>\n",
       "  <tbody>\n",
       "    <tr>\n",
       "      <th>0</th>\n",
       "      <td>spring</td>\n",
       "      <td>2011</td>\n",
       "      <td>Jan</td>\n",
       "      <td>No</td>\n",
       "      <td>No</td>\n",
       "      <td>Mist/Cloudy</td>\n",
       "      <td>8.175849</td>\n",
       "      <td>985</td>\n",
       "    </tr>\n",
       "    <tr>\n",
       "      <th>1</th>\n",
       "      <td>spring</td>\n",
       "      <td>2011</td>\n",
       "      <td>Jan</td>\n",
       "      <td>No</td>\n",
       "      <td>No</td>\n",
       "      <td>Mist/Cloudy</td>\n",
       "      <td>9.083466</td>\n",
       "      <td>801</td>\n",
       "    </tr>\n",
       "    <tr>\n",
       "      <th>2</th>\n",
       "      <td>spring</td>\n",
       "      <td>2011</td>\n",
       "      <td>Jan</td>\n",
       "      <td>No</td>\n",
       "      <td>Yes</td>\n",
       "      <td>Clear</td>\n",
       "      <td>1.229108</td>\n",
       "      <td>1349</td>\n",
       "    </tr>\n",
       "    <tr>\n",
       "      <th>3</th>\n",
       "      <td>spring</td>\n",
       "      <td>2011</td>\n",
       "      <td>Jan</td>\n",
       "      <td>No</td>\n",
       "      <td>Yes</td>\n",
       "      <td>Clear</td>\n",
       "      <td>1.400000</td>\n",
       "      <td>1562</td>\n",
       "    </tr>\n",
       "    <tr>\n",
       "      <th>4</th>\n",
       "      <td>spring</td>\n",
       "      <td>2011</td>\n",
       "      <td>Jan</td>\n",
       "      <td>No</td>\n",
       "      <td>Yes</td>\n",
       "      <td>Clear</td>\n",
       "      <td>2.666979</td>\n",
       "      <td>1600</td>\n",
       "    </tr>\n",
       "  </tbody>\n",
       "</table>\n",
       "</div>"
      ],
      "text/plain": [
       "   season    yr mnth holiday workingday   weathersit      temp   cnt\n",
       "0  spring  2011  Jan      No         No  Mist/Cloudy  8.175849   985\n",
       "1  spring  2011  Jan      No         No  Mist/Cloudy  9.083466   801\n",
       "2  spring  2011  Jan      No        Yes        Clear  1.229108  1349\n",
       "3  spring  2011  Jan      No        Yes        Clear  1.400000  1562\n",
       "4  spring  2011  Jan      No        Yes        Clear  2.666979  1600"
      ]
     },
     "execution_count": 119,
     "metadata": {},
     "output_type": "execute_result"
    }
   ],
   "source": [
    "#checking new head\n",
    "day.head()"
   ]
  },
  {
   "cell_type": "code",
   "execution_count": 214,
   "metadata": {},
   "outputs": [],
   "source": [
    "#saving to disk after categ drop\n",
    "day.to_csv(\"categ_dropped_8.csv\", header = True, index = False)"
   ]
  },
  {
   "cell_type": "markdown",
   "metadata": {},
   "source": [
    "## Feature Scaling"
   ]
  },
  {
   "cell_type": "markdown",
   "metadata": {},
   "source": [
    "Feature scaling only works on **continuous** variables. Let us first see if the data is normally distributed or not. This is done so as to make a decision whether **normalization** or **standardization** needs to be done.\n",
    "\n",
    "Let us plot a **histogram** of the **temp** variable to see its distribution."
   ]
  },
  {
   "cell_type": "code",
   "execution_count": 120,
   "metadata": {
    "scrolled": false
   },
   "outputs": [
    {
     "data": {
      "image/png": "[encoded data removed]",
      "text/plain": [
       "<Figure size 432x288 with 1 Axes>"
      ]
     },
     "metadata": {
      "needs_background": "light"
     },
     "output_type": "display_data"
    }
   ],
   "source": [
    "#normal distribution check\n",
    "%matplotlib inline\n",
    "plt.hist(day[\"temp\"], normed = True, bins = 30)\n",
    "plt.show()"
   ]
  },
  {
   "cell_type": "markdown",
   "metadata": {},
   "source": [
    "By the looks of it, **temp** does not seem to be normally distributed. So we will use **normalization**."
   ]
  },
  {
   "cell_type": "code",
   "execution_count": 121,
   "metadata": {},
   "outputs": [
    {
     "data": {
      "text/html": [
       "<div>\n",
       "<style scoped>\n",
       "    .dataframe tbody tr th:only-of-type {\n",
       "        vertical-align: middle;\n",
       "    }\n",
       "\n",
       "    .dataframe tbody tr th {\n",
       "        vertical-align: top;\n",
       "    }\n",
       "\n",
       "    .dataframe thead th {\n",
       "        text-align: right;\n",
       "    }\n",
       "</style>\n",
       "<table border=\"1\" class=\"dataframe\">\n",
       "  <thead>\n",
       "    <tr style=\"text-align: right;\">\n",
       "      <th></th>\n",
       "      <th>season</th>\n",
       "      <th>yr</th>\n",
       "      <th>mnth</th>\n",
       "      <th>holiday</th>\n",
       "      <th>workingday</th>\n",
       "      <th>weathersit</th>\n",
       "      <th>temp</th>\n",
       "      <th>cnt</th>\n",
       "    </tr>\n",
       "  </thead>\n",
       "  <tbody>\n",
       "    <tr>\n",
       "      <th>0</th>\n",
       "      <td>spring</td>\n",
       "      <td>2011</td>\n",
       "      <td>Jan</td>\n",
       "      <td>No</td>\n",
       "      <td>No</td>\n",
       "      <td>Mist/Cloudy</td>\n",
       "      <td>8.175849</td>\n",
       "      <td>985</td>\n",
       "    </tr>\n",
       "    <tr>\n",
       "      <th>1</th>\n",
       "      <td>spring</td>\n",
       "      <td>2011</td>\n",
       "      <td>Jan</td>\n",
       "      <td>No</td>\n",
       "      <td>No</td>\n",
       "      <td>Mist/Cloudy</td>\n",
       "      <td>9.083466</td>\n",
       "      <td>801</td>\n",
       "    </tr>\n",
       "    <tr>\n",
       "      <th>2</th>\n",
       "      <td>spring</td>\n",
       "      <td>2011</td>\n",
       "      <td>Jan</td>\n",
       "      <td>No</td>\n",
       "      <td>Yes</td>\n",
       "      <td>Clear</td>\n",
       "      <td>1.229108</td>\n",
       "      <td>1349</td>\n",
       "    </tr>\n",
       "    <tr>\n",
       "      <th>3</th>\n",
       "      <td>spring</td>\n",
       "      <td>2011</td>\n",
       "      <td>Jan</td>\n",
       "      <td>No</td>\n",
       "      <td>Yes</td>\n",
       "      <td>Clear</td>\n",
       "      <td>1.400000</td>\n",
       "      <td>1562</td>\n",
       "    </tr>\n",
       "    <tr>\n",
       "      <th>4</th>\n",
       "      <td>spring</td>\n",
       "      <td>2011</td>\n",
       "      <td>Jan</td>\n",
       "      <td>No</td>\n",
       "      <td>Yes</td>\n",
       "      <td>Clear</td>\n",
       "      <td>2.666979</td>\n",
       "      <td>1600</td>\n",
       "    </tr>\n",
       "  </tbody>\n",
       "</table>\n",
       "</div>"
      ],
      "text/plain": [
       "   season    yr mnth holiday workingday   weathersit      temp   cnt\n",
       "0  spring  2011  Jan      No         No  Mist/Cloudy  8.175849   985\n",
       "1  spring  2011  Jan      No         No  Mist/Cloudy  9.083466   801\n",
       "2  spring  2011  Jan      No        Yes        Clear  1.229108  1349\n",
       "3  spring  2011  Jan      No        Yes        Clear  1.400000  1562\n",
       "4  spring  2011  Jan      No        Yes        Clear  2.666979  1600"
      ]
     },
     "execution_count": 121,
     "metadata": {},
     "output_type": "execute_result"
    }
   ],
   "source": [
    "#before normalization check\n",
    "day.head()"
   ]
  },
  {
   "cell_type": "code",
   "execution_count": 122,
   "metadata": {},
   "outputs": [],
   "source": [
    "#normalizing\n",
    "day[\"temp\"] = (day[\"temp\"] - min(day[\"temp\"]))/(max(day[\"temp\"]) - min(day[\"temp\"]))"
   ]
  },
  {
   "cell_type": "code",
   "execution_count": 123,
   "metadata": {
    "scrolled": false
   },
   "outputs": [
    {
     "data": {
      "text/html": [
       "<div>\n",
       "<style scoped>\n",
       "    .dataframe tbody tr th:only-of-type {\n",
       "        vertical-align: middle;\n",
       "    }\n",
       "\n",
       "    .dataframe tbody tr th {\n",
       "        vertical-align: top;\n",
       "    }\n",
       "\n",
       "    .dataframe thead th {\n",
       "        text-align: right;\n",
       "    }\n",
       "</style>\n",
       "<table border=\"1\" class=\"dataframe\">\n",
       "  <thead>\n",
       "    <tr style=\"text-align: right;\">\n",
       "      <th></th>\n",
       "      <th>season</th>\n",
       "      <th>yr</th>\n",
       "      <th>mnth</th>\n",
       "      <th>holiday</th>\n",
       "      <th>workingday</th>\n",
       "      <th>weathersit</th>\n",
       "      <th>temp</th>\n",
       "      <th>cnt</th>\n",
       "    </tr>\n",
       "  </thead>\n",
       "  <tbody>\n",
       "    <tr>\n",
       "      <th>0</th>\n",
       "      <td>spring</td>\n",
       "      <td>2011</td>\n",
       "      <td>Jan</td>\n",
       "      <td>No</td>\n",
       "      <td>No</td>\n",
       "      <td>Mist/Cloudy</td>\n",
       "      <td>0.355170</td>\n",
       "      <td>985</td>\n",
       "    </tr>\n",
       "    <tr>\n",
       "      <th>1</th>\n",
       "      <td>spring</td>\n",
       "      <td>2011</td>\n",
       "      <td>Jan</td>\n",
       "      <td>No</td>\n",
       "      <td>No</td>\n",
       "      <td>Mist/Cloudy</td>\n",
       "      <td>0.379232</td>\n",
       "      <td>801</td>\n",
       "    </tr>\n",
       "    <tr>\n",
       "      <th>2</th>\n",
       "      <td>spring</td>\n",
       "      <td>2011</td>\n",
       "      <td>Jan</td>\n",
       "      <td>No</td>\n",
       "      <td>Yes</td>\n",
       "      <td>Clear</td>\n",
       "      <td>0.171000</td>\n",
       "      <td>1349</td>\n",
       "    </tr>\n",
       "    <tr>\n",
       "      <th>3</th>\n",
       "      <td>spring</td>\n",
       "      <td>2011</td>\n",
       "      <td>Jan</td>\n",
       "      <td>No</td>\n",
       "      <td>Yes</td>\n",
       "      <td>Clear</td>\n",
       "      <td>0.175530</td>\n",
       "      <td>1562</td>\n",
       "    </tr>\n",
       "    <tr>\n",
       "      <th>4</th>\n",
       "      <td>spring</td>\n",
       "      <td>2011</td>\n",
       "      <td>Jan</td>\n",
       "      <td>No</td>\n",
       "      <td>Yes</td>\n",
       "      <td>Clear</td>\n",
       "      <td>0.209120</td>\n",
       "      <td>1600</td>\n",
       "    </tr>\n",
       "  </tbody>\n",
       "</table>\n",
       "</div>"
      ],
      "text/plain": [
       "   season    yr mnth holiday workingday   weathersit      temp   cnt\n",
       "0  spring  2011  Jan      No         No  Mist/Cloudy  0.355170   985\n",
       "1  spring  2011  Jan      No         No  Mist/Cloudy  0.379232   801\n",
       "2  spring  2011  Jan      No        Yes        Clear  0.171000  1349\n",
       "3  spring  2011  Jan      No        Yes        Clear  0.175530  1562\n",
       "4  spring  2011  Jan      No        Yes        Clear  0.209120  1600"
      ]
     },
     "execution_count": 123,
     "metadata": {},
     "output_type": "execute_result"
    }
   ],
   "source": [
    "#after normalization check\n",
    "day.head(5)"
   ]
  },
  {
   "cell_type": "markdown",
   "metadata": {},
   "source": [
    "As we can see, **temp** has been normalized."
   ]
  },
  {
   "cell_type": "code",
   "execution_count": 219,
   "metadata": {},
   "outputs": [],
   "source": [
    "#writing file to disk\n",
    "day.to_csv(\"day_after_scaling.csv\", header = True, index = False)"
   ]
  },
  {
   "cell_type": "markdown",
   "metadata": {},
   "source": [
    "## One Hot Encoding"
   ]
  },
  {
   "cell_type": "markdown",
   "metadata": {},
   "source": [
    "Since this is a regression problem, any regressor algorithm would NOT be able to take in the categorical variables as inputs when fitting the model. Therefore, **one hot encoding** needs to be done before splitting the dataset into train and test."
   ]
  },
  {
   "cell_type": "code",
   "execution_count": 124,
   "metadata": {},
   "outputs": [],
   "source": [
    "#importing from library\n",
    "from sklearn.preprocessing import OneHotEncoder"
   ]
  },
  {
   "cell_type": "code",
   "execution_count": 125,
   "metadata": {},
   "outputs": [],
   "source": [
    "#creating a separate array for categorical column names\n",
    "col = [\"season\", \"yr\", \"mnth\", \"holiday\", \"workingday\", \"weathersit\"]\n",
    "\n",
    "#applying one hot encoding to day on categorical variables\n",
    "OneHot = OneHotEncoder(sparse = False)\n",
    "OHE = pd.DataFrame(OneHot.fit_transform(day[col]))"
   ]
  },
  {
   "cell_type": "code",
   "execution_count": 126,
   "metadata": {},
   "outputs": [
    {
     "data": {
      "text/plain": [
       "(731, 25)"
      ]
     },
     "execution_count": 126,
     "metadata": {},
     "output_type": "execute_result"
    }
   ],
   "source": [
    "#viewing the shape of OHE\n",
    "OHE.shape"
   ]
  },
  {
   "cell_type": "markdown",
   "metadata": {},
   "source": [
    "Thus all six categorical variables have been split up into 25 variables."
   ]
  },
  {
   "cell_type": "code",
   "execution_count": 127,
   "metadata": {
    "scrolled": false
   },
   "outputs": [
    {
     "data": {
      "text/html": [
       "<div>\n",
       "<style scoped>\n",
       "    .dataframe tbody tr th:only-of-type {\n",
       "        vertical-align: middle;\n",
       "    }\n",
       "\n",
       "    .dataframe tbody tr th {\n",
       "        vertical-align: top;\n",
       "    }\n",
       "\n",
       "    .dataframe thead th {\n",
       "        text-align: right;\n",
       "    }\n",
       "</style>\n",
       "<table border=\"1\" class=\"dataframe\">\n",
       "  <thead>\n",
       "    <tr style=\"text-align: right;\">\n",
       "      <th></th>\n",
       "      <th>0</th>\n",
       "      <th>1</th>\n",
       "      <th>2</th>\n",
       "      <th>3</th>\n",
       "      <th>4</th>\n",
       "      <th>5</th>\n",
       "      <th>6</th>\n",
       "      <th>7</th>\n",
       "      <th>8</th>\n",
       "      <th>9</th>\n",
       "      <th>...</th>\n",
       "      <th>15</th>\n",
       "      <th>16</th>\n",
       "      <th>17</th>\n",
       "      <th>18</th>\n",
       "      <th>19</th>\n",
       "      <th>20</th>\n",
       "      <th>21</th>\n",
       "      <th>22</th>\n",
       "      <th>23</th>\n",
       "      <th>24</th>\n",
       "    </tr>\n",
       "  </thead>\n",
       "  <tbody>\n",
       "    <tr>\n",
       "      <th>0</th>\n",
       "      <td>0.0</td>\n",
       "      <td>1.0</td>\n",
       "      <td>0.0</td>\n",
       "      <td>0.0</td>\n",
       "      <td>1.0</td>\n",
       "      <td>0.0</td>\n",
       "      <td>0.0</td>\n",
       "      <td>0.0</td>\n",
       "      <td>0.0</td>\n",
       "      <td>0.0</td>\n",
       "      <td>...</td>\n",
       "      <td>0.0</td>\n",
       "      <td>0.0</td>\n",
       "      <td>0.0</td>\n",
       "      <td>1.0</td>\n",
       "      <td>0.0</td>\n",
       "      <td>1.0</td>\n",
       "      <td>0.0</td>\n",
       "      <td>0.0</td>\n",
       "      <td>0.0</td>\n",
       "      <td>1.0</td>\n",
       "    </tr>\n",
       "    <tr>\n",
       "      <th>1</th>\n",
       "      <td>0.0</td>\n",
       "      <td>1.0</td>\n",
       "      <td>0.0</td>\n",
       "      <td>0.0</td>\n",
       "      <td>1.0</td>\n",
       "      <td>0.0</td>\n",
       "      <td>0.0</td>\n",
       "      <td>0.0</td>\n",
       "      <td>0.0</td>\n",
       "      <td>0.0</td>\n",
       "      <td>...</td>\n",
       "      <td>0.0</td>\n",
       "      <td>0.0</td>\n",
       "      <td>0.0</td>\n",
       "      <td>1.0</td>\n",
       "      <td>0.0</td>\n",
       "      <td>1.0</td>\n",
       "      <td>0.0</td>\n",
       "      <td>0.0</td>\n",
       "      <td>0.0</td>\n",
       "      <td>1.0</td>\n",
       "    </tr>\n",
       "    <tr>\n",
       "      <th>2</th>\n",
       "      <td>0.0</td>\n",
       "      <td>1.0</td>\n",
       "      <td>0.0</td>\n",
       "      <td>0.0</td>\n",
       "      <td>1.0</td>\n",
       "      <td>0.0</td>\n",
       "      <td>0.0</td>\n",
       "      <td>0.0</td>\n",
       "      <td>0.0</td>\n",
       "      <td>0.0</td>\n",
       "      <td>...</td>\n",
       "      <td>0.0</td>\n",
       "      <td>0.0</td>\n",
       "      <td>0.0</td>\n",
       "      <td>1.0</td>\n",
       "      <td>0.0</td>\n",
       "      <td>0.0</td>\n",
       "      <td>1.0</td>\n",
       "      <td>1.0</td>\n",
       "      <td>0.0</td>\n",
       "      <td>0.0</td>\n",
       "    </tr>\n",
       "    <tr>\n",
       "      <th>3</th>\n",
       "      <td>0.0</td>\n",
       "      <td>1.0</td>\n",
       "      <td>0.0</td>\n",
       "      <td>0.0</td>\n",
       "      <td>1.0</td>\n",
       "      <td>0.0</td>\n",
       "      <td>0.0</td>\n",
       "      <td>0.0</td>\n",
       "      <td>0.0</td>\n",
       "      <td>0.0</td>\n",
       "      <td>...</td>\n",
       "      <td>0.0</td>\n",
       "      <td>0.0</td>\n",
       "      <td>0.0</td>\n",
       "      <td>1.0</td>\n",
       "      <td>0.0</td>\n",
       "      <td>0.0</td>\n",
       "      <td>1.0</td>\n",
       "      <td>1.0</td>\n",
       "      <td>0.0</td>\n",
       "      <td>0.0</td>\n",
       "    </tr>\n",
       "    <tr>\n",
       "      <th>4</th>\n",
       "      <td>0.0</td>\n",
       "      <td>1.0</td>\n",
       "      <td>0.0</td>\n",
       "      <td>0.0</td>\n",
       "      <td>1.0</td>\n",
       "      <td>0.0</td>\n",
       "      <td>0.0</td>\n",
       "      <td>0.0</td>\n",
       "      <td>0.0</td>\n",
       "      <td>0.0</td>\n",
       "      <td>...</td>\n",
       "      <td>0.0</td>\n",
       "      <td>0.0</td>\n",
       "      <td>0.0</td>\n",
       "      <td>1.0</td>\n",
       "      <td>0.0</td>\n",
       "      <td>0.0</td>\n",
       "      <td>1.0</td>\n",
       "      <td>1.0</td>\n",
       "      <td>0.0</td>\n",
       "      <td>0.0</td>\n",
       "    </tr>\n",
       "  </tbody>\n",
       "</table>\n",
       "<p>5 rows × 25 columns</p>\n",
       "</div>"
      ],
      "text/plain": [
       "    0    1    2    3    4    5    6    7    8    9   ...   15   16   17   18  \\\n",
       "0  0.0  1.0  0.0  0.0  1.0  0.0  0.0  0.0  0.0  0.0  ...  0.0  0.0  0.0  1.0   \n",
       "1  0.0  1.0  0.0  0.0  1.0  0.0  0.0  0.0  0.0  0.0  ...  0.0  0.0  0.0  1.0   \n",
       "2  0.0  1.0  0.0  0.0  1.0  0.0  0.0  0.0  0.0  0.0  ...  0.0  0.0  0.0  1.0   \n",
       "3  0.0  1.0  0.0  0.0  1.0  0.0  0.0  0.0  0.0  0.0  ...  0.0  0.0  0.0  1.0   \n",
       "4  0.0  1.0  0.0  0.0  1.0  0.0  0.0  0.0  0.0  0.0  ...  0.0  0.0  0.0  1.0   \n",
       "\n",
       "    19   20   21   22   23   24  \n",
       "0  0.0  1.0  0.0  0.0  0.0  1.0  \n",
       "1  0.0  1.0  0.0  0.0  0.0  1.0  \n",
       "2  0.0  0.0  1.0  1.0  0.0  0.0  \n",
       "3  0.0  0.0  1.0  1.0  0.0  0.0  \n",
       "4  0.0  0.0  1.0  1.0  0.0  0.0  \n",
       "\n",
       "[5 rows x 25 columns]"
      ]
     },
     "execution_count": 127,
     "metadata": {},
     "output_type": "execute_result"
    }
   ],
   "source": [
    "#checking the head of OHE\n",
    "OHE.head()"
   ]
  },
  {
   "cell_type": "code",
   "execution_count": 128,
   "metadata": {},
   "outputs": [],
   "source": [
    "#renaming the columns\n",
    "OHE = OHE.rename(columns = {0: \"fall\", 1: \"spring\", 2: \"summer\", 3: \"winter\", 4: \"2011\", 5: \"2012\", 6: \"Apr\", 7: \"Aug\", 8: \"Dec\", 9: \"Feb\", 10: \"Jan\", 11: \"Jul\", 12: \"Jun\", 13: \"Mar\", 14: \"May\", 15: \"Nov\", 16: \"Oct\", 17: \"Sep\", 18: \"holiday_No\", 19: \"holiday_Yes\", 20: \"workingday_No\", 21: \"working_day_Yes\", 22: \"Clear\", 23: \"Light Snow/Light Rain\", 24: \"Mist/Cloudy\"})"
   ]
  },
  {
   "cell_type": "code",
   "execution_count": 129,
   "metadata": {},
   "outputs": [],
   "source": [
    "#dropping categorical columns of day\n",
    "day = day.drop(col, axis = 1)"
   ]
  },
  {
   "cell_type": "code",
   "execution_count": 130,
   "metadata": {},
   "outputs": [],
   "source": [
    "#concatenating OHE to day\n",
    "day = pd.concat([OHE, day], axis = 1)"
   ]
  },
  {
   "cell_type": "code",
   "execution_count": 131,
   "metadata": {},
   "outputs": [
    {
     "data": {
      "text/plain": [
       "(731, 27)"
      ]
     },
     "execution_count": 131,
     "metadata": {},
     "output_type": "execute_result"
    }
   ],
   "source": [
    "#viewing shape\n",
    "day.shape"
   ]
  },
  {
   "cell_type": "code",
   "execution_count": 132,
   "metadata": {
    "scrolled": true
   },
   "outputs": [
    {
     "data": {
      "text/html": [
       "<div>\n",
       "<style scoped>\n",
       "    .dataframe tbody tr th:only-of-type {\n",
       "        vertical-align: middle;\n",
       "    }\n",
       "\n",
       "    .dataframe tbody tr th {\n",
       "        vertical-align: top;\n",
       "    }\n",
       "\n",
       "    .dataframe thead th {\n",
       "        text-align: right;\n",
       "    }\n",
       "</style>\n",
       "<table border=\"1\" class=\"dataframe\">\n",
       "  <thead>\n",
       "    <tr style=\"text-align: right;\">\n",
       "      <th></th>\n",
       "      <th>fall</th>\n",
       "      <th>spring</th>\n",
       "      <th>summer</th>\n",
       "      <th>winter</th>\n",
       "      <th>2011</th>\n",
       "      <th>2012</th>\n",
       "      <th>Apr</th>\n",
       "      <th>Aug</th>\n",
       "      <th>Dec</th>\n",
       "      <th>Feb</th>\n",
       "      <th>...</th>\n",
       "      <th>Sep</th>\n",
       "      <th>holiday_No</th>\n",
       "      <th>holiday_Yes</th>\n",
       "      <th>workingday_No</th>\n",
       "      <th>working_day_Yes</th>\n",
       "      <th>Clear</th>\n",
       "      <th>Light Snow/Light Rain</th>\n",
       "      <th>Mist/Cloudy</th>\n",
       "      <th>temp</th>\n",
       "      <th>cnt</th>\n",
       "    </tr>\n",
       "  </thead>\n",
       "  <tbody>\n",
       "    <tr>\n",
       "      <th>0</th>\n",
       "      <td>0.0</td>\n",
       "      <td>1.0</td>\n",
       "      <td>0.0</td>\n",
       "      <td>0.0</td>\n",
       "      <td>1.0</td>\n",
       "      <td>0.0</td>\n",
       "      <td>0.0</td>\n",
       "      <td>0.0</td>\n",
       "      <td>0.0</td>\n",
       "      <td>0.0</td>\n",
       "      <td>...</td>\n",
       "      <td>0.0</td>\n",
       "      <td>1.0</td>\n",
       "      <td>0.0</td>\n",
       "      <td>1.0</td>\n",
       "      <td>0.0</td>\n",
       "      <td>0.0</td>\n",
       "      <td>0.0</td>\n",
       "      <td>1.0</td>\n",
       "      <td>0.355170</td>\n",
       "      <td>985</td>\n",
       "    </tr>\n",
       "    <tr>\n",
       "      <th>1</th>\n",
       "      <td>0.0</td>\n",
       "      <td>1.0</td>\n",
       "      <td>0.0</td>\n",
       "      <td>0.0</td>\n",
       "      <td>1.0</td>\n",
       "      <td>0.0</td>\n",
       "      <td>0.0</td>\n",
       "      <td>0.0</td>\n",
       "      <td>0.0</td>\n",
       "      <td>0.0</td>\n",
       "      <td>...</td>\n",
       "      <td>0.0</td>\n",
       "      <td>1.0</td>\n",
       "      <td>0.0</td>\n",
       "      <td>1.0</td>\n",
       "      <td>0.0</td>\n",
       "      <td>0.0</td>\n",
       "      <td>0.0</td>\n",
       "      <td>1.0</td>\n",
       "      <td>0.379232</td>\n",
       "      <td>801</td>\n",
       "    </tr>\n",
       "    <tr>\n",
       "      <th>2</th>\n",
       "      <td>0.0</td>\n",
       "      <td>1.0</td>\n",
       "      <td>0.0</td>\n",
       "      <td>0.0</td>\n",
       "      <td>1.0</td>\n",
       "      <td>0.0</td>\n",
       "      <td>0.0</td>\n",
       "      <td>0.0</td>\n",
       "      <td>0.0</td>\n",
       "      <td>0.0</td>\n",
       "      <td>...</td>\n",
       "      <td>0.0</td>\n",
       "      <td>1.0</td>\n",
       "      <td>0.0</td>\n",
       "      <td>0.0</td>\n",
       "      <td>1.0</td>\n",
       "      <td>1.0</td>\n",
       "      <td>0.0</td>\n",
       "      <td>0.0</td>\n",
       "      <td>0.171000</td>\n",
       "      <td>1349</td>\n",
       "    </tr>\n",
       "    <tr>\n",
       "      <th>3</th>\n",
       "      <td>0.0</td>\n",
       "      <td>1.0</td>\n",
       "      <td>0.0</td>\n",
       "      <td>0.0</td>\n",
       "      <td>1.0</td>\n",
       "      <td>0.0</td>\n",
       "      <td>0.0</td>\n",
       "      <td>0.0</td>\n",
       "      <td>0.0</td>\n",
       "      <td>0.0</td>\n",
       "      <td>...</td>\n",
       "      <td>0.0</td>\n",
       "      <td>1.0</td>\n",
       "      <td>0.0</td>\n",
       "      <td>0.0</td>\n",
       "      <td>1.0</td>\n",
       "      <td>1.0</td>\n",
       "      <td>0.0</td>\n",
       "      <td>0.0</td>\n",
       "      <td>0.175530</td>\n",
       "      <td>1562</td>\n",
       "    </tr>\n",
       "    <tr>\n",
       "      <th>4</th>\n",
       "      <td>0.0</td>\n",
       "      <td>1.0</td>\n",
       "      <td>0.0</td>\n",
       "      <td>0.0</td>\n",
       "      <td>1.0</td>\n",
       "      <td>0.0</td>\n",
       "      <td>0.0</td>\n",
       "      <td>0.0</td>\n",
       "      <td>0.0</td>\n",
       "      <td>0.0</td>\n",
       "      <td>...</td>\n",
       "      <td>0.0</td>\n",
       "      <td>1.0</td>\n",
       "      <td>0.0</td>\n",
       "      <td>0.0</td>\n",
       "      <td>1.0</td>\n",
       "      <td>1.0</td>\n",
       "      <td>0.0</td>\n",
       "      <td>0.0</td>\n",
       "      <td>0.209120</td>\n",
       "      <td>1600</td>\n",
       "    </tr>\n",
       "  </tbody>\n",
       "</table>\n",
       "<p>5 rows × 27 columns</p>\n",
       "</div>"
      ],
      "text/plain": [
       "   fall  spring  summer  winter  2011  2012  Apr  Aug  Dec  Feb  ...  Sep  \\\n",
       "0   0.0     1.0     0.0     0.0   1.0   0.0  0.0  0.0  0.0  0.0  ...  0.0   \n",
       "1   0.0     1.0     0.0     0.0   1.0   0.0  0.0  0.0  0.0  0.0  ...  0.0   \n",
       "2   0.0     1.0     0.0     0.0   1.0   0.0  0.0  0.0  0.0  0.0  ...  0.0   \n",
       "3   0.0     1.0     0.0     0.0   1.0   0.0  0.0  0.0  0.0  0.0  ...  0.0   \n",
       "4   0.0     1.0     0.0     0.0   1.0   0.0  0.0  0.0  0.0  0.0  ...  0.0   \n",
       "\n",
       "   holiday_No  holiday_Yes  workingday_No  working_day_Yes  Clear  \\\n",
       "0         1.0          0.0            1.0              0.0    0.0   \n",
       "1         1.0          0.0            1.0              0.0    0.0   \n",
       "2         1.0          0.0            0.0              1.0    1.0   \n",
       "3         1.0          0.0            0.0              1.0    1.0   \n",
       "4         1.0          0.0            0.0              1.0    1.0   \n",
       "\n",
       "   Light Snow/Light Rain  Mist/Cloudy      temp   cnt  \n",
       "0                    0.0          1.0  0.355170   985  \n",
       "1                    0.0          1.0  0.379232   801  \n",
       "2                    0.0          0.0  0.171000  1349  \n",
       "3                    0.0          0.0  0.175530  1562  \n",
       "4                    0.0          0.0  0.209120  1600  \n",
       "\n",
       "[5 rows x 27 columns]"
      ]
     },
     "execution_count": 132,
     "metadata": {},
     "output_type": "execute_result"
    }
   ],
   "source": [
    "#vieweing head\n",
    "day.head()"
   ]
  },
  {
   "cell_type": "code",
   "execution_count": 241,
   "metadata": {},
   "outputs": [],
   "source": [
    "#writing to disk\n",
    "day.to_csv(\"dayOHE.csv\", index = False, header = True)"
   ]
  },
  {
   "cell_type": "markdown",
   "metadata": {},
   "source": [
    "Now after **One Hot Encoding**, our dataset has 27 variables. The justification for this is the following:\n",
    "\n",
    "+ **season** has 4 types (fall, spring, summer, winter)\n",
    "+ **yr** has 2 types (2011, 2012)\n",
    "+ **mnth** has 12 types (Apr, Aug, Dec, Feb, Jan, Jul, Jun, Mar, May, Nov, Oct, Sep)\n",
    "+ **holiday** has 2 types (No, Yes)\n",
    "+ **workingday** has 2 types (No, Yes)\n",
    "+ **weathersit** has 3 types (Clear, Light Snow/Light Rain, Mist/Cloudy)\n",
    "+ **temp** has 1 type\n",
    "+ **cnt** has 1 type\n",
    "\n",
    "Adding all these up, we get 27 variables. \n"
   ]
  },
  {
   "cell_type": "markdown",
   "metadata": {},
   "source": [
    "## Splitting"
   ]
  },
  {
   "cell_type": "markdown",
   "metadata": {},
   "source": [
    "Now that all the preprocessing has been done, let us split the data into train and test. The model will be made on the train data, and then implemented on the test data. Then the accuracy of the model will be determined based on the accuracy obtained on the test data.\n",
    "\n",
    "I will be using **simple random sampling** to split the data into **train** and **test**"
   ]
  },
  {
   "cell_type": "code",
   "execution_count": 96,
   "metadata": {},
   "outputs": [],
   "source": [
    "#importing from library\n",
    "from sklearn.model_selection import train_test_split"
   ]
  },
  {
   "cell_type": "code",
   "execution_count": 243,
   "metadata": {},
   "outputs": [],
   "source": [
    "#the split\n",
    "train, test = train_test_split(day, test_size = 0.2)"
   ]
  },
  {
   "cell_type": "code",
   "execution_count": 244,
   "metadata": {
    "scrolled": false
   },
   "outputs": [
    {
     "name": "stdout",
     "output_type": "stream",
     "text": [
      "(584, 27)\n",
      "(147, 27)\n"
     ]
    }
   ],
   "source": [
    "#checking shape\n",
    "print(train.shape)\n",
    "print(test.shape)"
   ]
  },
  {
   "cell_type": "code",
   "execution_count": 247,
   "metadata": {},
   "outputs": [],
   "source": [
    "#writing file to disk\n",
    "train.to_csv(\"day_train.csv\", index = False, header = True)\n",
    "test.to_csv(\"day_test.csv\", index = False, header = True)"
   ]
  },
  {
   "cell_type": "markdown",
   "metadata": {},
   "source": [
    "# Machine Learning Algorithm Implementation"
   ]
  },
  {
   "cell_type": "markdown",
   "metadata": {},
   "source": [
    "Now that everything has been done, I will start implementing different ML algorithms and check the accuracies of all the models individually.\n",
    "Here I will be using the following algorithms:\n",
    "\n",
    "+ Decision Tree\n",
    "+ Random Forest\n",
    "+ Linear Regression"
   ]
  },
  {
   "cell_type": "markdown",
   "metadata": {},
   "source": [
    "## Decision Tree"
   ]
  },
  {
   "cell_type": "code",
   "execution_count": 134,
   "metadata": {},
   "outputs": [],
   "source": [
    "#importing from library\n",
    "from sklearn.tree import DecisionTreeRegressor"
   ]
  },
  {
   "cell_type": "code",
   "execution_count": 135,
   "metadata": {
    "scrolled": true
   },
   "outputs": [],
   "source": [
    "#making model with no parameters\n",
    "DT_model = DecisionTreeRegressor().fit(train.iloc[:, 0:26], train.iloc[:, 26])"
   ]
  },
  {
   "cell_type": "code",
   "execution_count": 136,
   "metadata": {},
   "outputs": [],
   "source": [
    "#making model with max_depth = 2\n",
    "DT_2_model = DecisionTreeRegressor(max_depth = 2).fit(train.iloc[:, 0:26], train.iloc[:, 26])"
   ]
  },
  {
   "cell_type": "code",
   "execution_count": 137,
   "metadata": {},
   "outputs": [
    {
     "data": {
      "text/plain": [
       "DecisionTreeRegressor(criterion='mse', max_depth=None, max_features=None,\n",
       "                      max_leaf_nodes=None, min_impurity_decrease=0.0,\n",
       "                      min_impurity_split=None, min_samples_leaf=1,\n",
       "                      min_samples_split=2, min_weight_fraction_leaf=0.0,\n",
       "                      presort=False, random_state=None, splitter='best')"
      ]
     },
     "execution_count": 137,
     "metadata": {},
     "output_type": "execute_result"
    }
   ],
   "source": [
    "#checking the different parameters of the model\n",
    "DT_model"
   ]
  },
  {
   "cell_type": "markdown",
   "metadata": {},
   "source": [
    "Once the model has been created, it will be used on the test data."
   ]
  },
  {
   "cell_type": "code",
   "execution_count": 138,
   "metadata": {},
   "outputs": [],
   "source": [
    "#applying model on test\n",
    "DT_pred = DT_model.predict(test.iloc[:, 0:26])"
   ]
  },
  {
   "cell_type": "code",
   "execution_count": 139,
   "metadata": {},
   "outputs": [],
   "source": [
    "#applying model on test\n",
    "DT_2_pred = DT_2_model.predict(test.iloc[:, 0:26])"
   ]
  },
  {
   "cell_type": "markdown",
   "metadata": {},
   "source": [
    "Let us take a look at the predicted values, to get an idea."
   ]
  },
  {
   "cell_type": "code",
   "execution_count": 140,
   "metadata": {},
   "outputs": [
    {
     "data": {
      "text/plain": [
       "array([7804. , 6864. , 2659. , 7444. , 4661. , 6889. , 7290. , 5191. ,\n",
       "       2743. , 3831. , 4634. , 3747. , 4553. , 1536. , 4274. , 2423. ,\n",
       "       5302. , 4127. , 5936. , 4985. , 3926. , 7013. , 5202. , 7129. ,\n",
       "       3747. , 4127. , 3744. , 4585. , 5976. , 2689. , 3292. , 4803. ,\n",
       "       3805. , 5119. , 7109. ,   22. , 4835. , 3940. , 5169. , 5870. ,\n",
       "       7338. , 1450. , 2710. , 1360. , 2710. , 4549. , 7767. , 7804. ,\n",
       "       4570. , 7580. , 2471. , 5058. , 8714. , 4845. , 4592. , 4826. ,\n",
       "       5870. , 5191. , 4326. , 1096. , 4579. , 2210. , 4120. , 4187. ,\n",
       "       6544. , 4575. , 6864. , 4067. , 6565.5, 2046. , 6031. , 4381. ,\n",
       "       5905. , 4400. , 5319. , 5312. , 4649. , 5041. , 3747. , 4634. ,\n",
       "       4748. , 3068. , 5976. , 3214. , 5312. , 1977. , 4274. , 1011. ,\n",
       "       7006. , 2429. , 4375. , 4120. , 1011. , 2843. , 3974. , 2429. ,\n",
       "       4687. , 6830. , 4205. , 3272. , 5146. , 5312. , 7720. , 6978. ,\n",
       "       4575. , 4187. , 2743. , 2294. , 4649. , 1708. , 1650. , 3926. ,\n",
       "       4788. , 4687. , 2947. , 6786. , 1985. , 4714. , 6565. , 4484. ,\n",
       "       2913. , 3005. , 4484. , 3784. , 1011. , 4916. , 7461. , 5115. ,\n",
       "       7702. , 6824. , 4978. , 7261. , 1450. , 4656. , 4576. , 2432. ,\n",
       "       7736. , 4058. , 1589. , 3747. , 4378. , 4576. , 2765. , 7509. ,\n",
       "       6196. , 7570. , 6889. ])"
      ]
     },
     "execution_count": 140,
     "metadata": {},
     "output_type": "execute_result"
    }
   ],
   "source": [
    "#checking predicted values\n",
    "DT_pred"
   ]
  },
  {
   "cell_type": "markdown",
   "metadata": {},
   "source": [
    "Now I will define a function MAPE, which stands for **Mean Absolute Percentage Error**. Everytime a model is created throughout this exercise, the actual values of the test data will be sent along with the new predicted values, and then this function will calculate the MAPE."
   ]
  },
  {
   "cell_type": "code",
   "execution_count": 141,
   "metadata": {},
   "outputs": [],
   "source": [
    "#define MAPE\n",
    "def MAPE(y_true, y_pred):\n",
    "    mape = np.mean(np.abs((y_true - y_pred)/y_true))*100\n",
    "    return mape"
   ]
  },
  {
   "cell_type": "code",
   "execution_count": 142,
   "metadata": {
    "scrolled": false
   },
   "outputs": [
    {
     "data": {
      "text/plain": [
       "20.108101605753593"
      ]
     },
     "execution_count": 142,
     "metadata": {},
     "output_type": "execute_result"
    }
   ],
   "source": [
    "#calling MAPE\n",
    "MAPE(test.iloc[:, 26], DT_pred)"
   ]
  },
  {
   "cell_type": "code",
   "execution_count": 143,
   "metadata": {},
   "outputs": [
    {
     "data": {
      "text/plain": [
       "26.415773794471598"
      ]
     },
     "execution_count": 143,
     "metadata": {},
     "output_type": "execute_result"
    }
   ],
   "source": [
    "MAPE(test.iloc[:, 26], DT_2_pred)"
   ]
  },
  {
   "cell_type": "markdown",
   "metadata": {},
   "source": [
    "Thus, a **decision tree regressor** with no parameters gives us a MAPE of 22.87% (accuracy = 77.13%), while one with max_depth = 2 gives us a MAPE of 26.41%, or in other words, the accuracy is 73.59%. Let us see if this accuracy can be improved using other models."
   ]
  },
  {
   "cell_type": "markdown",
   "metadata": {},
   "source": [
    "## Random Forest"
   ]
  },
  {
   "cell_type": "code",
   "execution_count": 144,
   "metadata": {},
   "outputs": [],
   "source": [
    "#importing from library\n",
    "from sklearn.ensemble import RandomForestRegressor"
   ]
  },
  {
   "cell_type": "code",
   "execution_count": 145,
   "metadata": {},
   "outputs": [],
   "source": [
    "#making the model\n",
    "RF_model = RandomForestRegressor(n_estimators = 400).fit(train.iloc[:, 0:26], train.iloc[:, 26])"
   ]
  },
  {
   "cell_type": "code",
   "execution_count": 146,
   "metadata": {
    "scrolled": false
   },
   "outputs": [
    {
     "data": {
      "text/plain": [
       "RandomForestRegressor(bootstrap=True, criterion='mse', max_depth=None,\n",
       "                      max_features='auto', max_leaf_nodes=None,\n",
       "                      min_impurity_decrease=0.0, min_impurity_split=None,\n",
       "                      min_samples_leaf=1, min_samples_split=2,\n",
       "                      min_weight_fraction_leaf=0.0, n_estimators=400,\n",
       "                      n_jobs=None, oob_score=False, random_state=None,\n",
       "                      verbose=0, warm_start=False)"
      ]
     },
     "execution_count": 146,
     "metadata": {},
     "output_type": "execute_result"
    }
   ],
   "source": [
    "#checking the different parameters of the model\n",
    "RF_model"
   ]
  },
  {
   "cell_type": "markdown",
   "metadata": {},
   "source": [
    "Once the model has been created, it will be used on the test data."
   ]
  },
  {
   "cell_type": "code",
   "execution_count": 147,
   "metadata": {},
   "outputs": [],
   "source": [
    "#applying model on test\n",
    "RF_pred = RF_model.predict(test.iloc[:, 0:26])"
   ]
  },
  {
   "cell_type": "markdown",
   "metadata": {},
   "source": [
    "Let us take a look at the predicted values, to get an idea."
   ]
  },
  {
   "cell_type": "code",
   "execution_count": 148,
   "metadata": {},
   "outputs": [
    {
     "data": {
      "text/plain": [
       "array([7846.74483929, 7254.45421429, 3432.91      , 7022.9075    ,\n",
       "       4859.27      , 7300.6875    , 6846.465     , 4653.5625    ,\n",
       "       2855.1075    , 3382.845     , 4703.5       , 3309.3775    ,\n",
       "       4573.865     , 1752.655     , 4858.4725    , 1770.9275    ,\n",
       "       5229.475     , 5133.07416667, 6044.52      , 4716.485     ,\n",
       "       3787.9625    , 7021.0375    , 4955.4225    , 7302.675     ,\n",
       "       3212.6075    , 5670.275     , 3671.19      , 5806.485     ,\n",
       "       6385.2275    , 2946.19      , 2862.01      , 4762.9675    ,\n",
       "       4298.3125    , 5100.7325    , 5924.4425    , 4054.2975    ,\n",
       "       4507.84      , 3815.3875    , 6187.775     , 6138.115     ,\n",
       "       7135.2725    , 1428.605     , 2673.105     , 1460.11      ,\n",
       "       2673.105     , 5287.85      , 7677.40175   , 7789.16758929,\n",
       "       4751.165     , 7422.14875   , 2237.3275    , 4832.2875    ,\n",
       "       8383.472375  , 4532.0475    , 4546.246     , 4659.7325    ,\n",
       "       5789.6775    , 4660.065     , 4454.96816667, 1050.4425    ,\n",
       "       5214.2125    , 2177.45      , 4350.99      , 4075.56      ,\n",
       "       7200.09      , 4299.255     , 7257.8775    , 3698.6075    ,\n",
       "       6587.21079167, 2120.485     , 6322.35      , 4072.4375    ,\n",
       "       6401.57758333, 4434.80739286, 4673.3975    , 4933.8125    ,\n",
       "       4560.7575    , 4973.07      , 3309.3775    , 4693.5025    ,\n",
       "       4131.48      , 3564.74      , 6553.9475    , 4592.49      ,\n",
       "       5098.19      , 1920.6375    , 4708.4525    , 2021.075     ,\n",
       "       7493.191875  , 3197.1575    , 4043.57      , 4295.975     ,\n",
       "       2068.54      , 5173.3575    , 4162.7325    , 3031.165     ,\n",
       "       4624.7575    , 6897.4875    , 4070.0375    , 3313.9175    ,\n",
       "       5258.91      , 5131.365     , 7656.2505    , 7091.3325    ,\n",
       "       4299.255     , 3959.2225    , 2983.505     , 4011.595     ,\n",
       "       4754.6125    , 1500.88      , 1687.86      , 3738.49      ,\n",
       "       4865.0425    , 4692.985     , 2634.5575    , 6622.93479167,\n",
       "       1672.585     , 4886.79      , 6326.9125    , 4712.5775    ,\n",
       "       3736.64      , 3151.2375    , 4697.8825    , 3711.135     ,\n",
       "       1889.8425    , 3791.225     , 7146.0575    , 5434.599375  ,\n",
       "       7527.2425    , 5964.2325    , 4829.0825    , 7161.8325    ,\n",
       "       1473.1325    , 4533.96      , 3828.225     , 2414.165     ,\n",
       "       7504.725     , 3960.145     , 1830.3425    , 3375.2625    ,\n",
       "       3932.4475    , 3828.225     , 2714.7825    , 7400.4475    ,\n",
       "       6376.045     , 6898.625     , 7151.3925    ])"
      ]
     },
     "execution_count": 148,
     "metadata": {},
     "output_type": "execute_result"
    }
   ],
   "source": [
    "RF_pred"
   ]
  },
  {
   "cell_type": "code",
   "execution_count": 149,
   "metadata": {
    "scrolled": true
   },
   "outputs": [
    {
     "data": {
      "text/plain": [
       "16.585946641365233"
      ]
     },
     "execution_count": 149,
     "metadata": {},
     "output_type": "execute_result"
    }
   ],
   "source": [
    "#calling MAPE to get the MAPE\n",
    "MAPE(test.iloc[:, 26], RF_pred)"
   ]
  },
  {
   "cell_type": "markdown",
   "metadata": {},
   "source": [
    "Thus, a **random forest regressor** with number of estimators = 400 gives us a MAPE of 16.66%, or in other words, the accuracy is 83.34%. I have tried building a random forest by taking 200, 300 and 500 estimators and all of these give MAPE in the same ballpark. So I decided to go with 400 estimators. Let us see if this accuracy can be improved using other models."
   ]
  },
  {
   "cell_type": "markdown",
   "metadata": {},
   "source": [
    "## Linear Regression"
   ]
  },
  {
   "cell_type": "code",
   "execution_count": 150,
   "metadata": {},
   "outputs": [],
   "source": [
    "#importing from required library\n",
    "import statsmodels.api as sm"
   ]
  },
  {
   "cell_type": "code",
   "execution_count": 151,
   "metadata": {},
   "outputs": [],
   "source": [
    "#building model on train\n",
    "LR_model = sm.OLS(train.iloc[:, 26], train.iloc[:, 0:26]).fit()"
   ]
  },
  {
   "cell_type": "code",
   "execution_count": 152,
   "metadata": {},
   "outputs": [
    {
     "data": {
      "text/html": [
       "<table class=\"simpletable\">\n",
       "<caption>OLS Regression Results</caption>\n",
       "<tr>\n",
       "  <th>Dep. Variable:</th>           <td>cnt</td>       <th>  R-squared:         </th> <td>   0.825</td> \n",
       "</tr>\n",
       "<tr>\n",
       "  <th>Model:</th>                   <td>OLS</td>       <th>  Adj. R-squared:    </th> <td>   0.819</td> \n",
       "</tr>\n",
       "<tr>\n",
       "  <th>Method:</th>             <td>Least Squares</td>  <th>  F-statistic:       </th> <td>   132.9</td> \n",
       "</tr>\n",
       "<tr>\n",
       "  <th>Date:</th>             <td>Sat, 14 Sep 2019</td> <th>  Prob (F-statistic):</th> <td>3.67e-198</td>\n",
       "</tr>\n",
       "<tr>\n",
       "  <th>Time:</th>                 <td>17:15:02</td>     <th>  Log-Likelihood:    </th> <td> -4744.5</td> \n",
       "</tr>\n",
       "<tr>\n",
       "  <th>No. Observations:</th>      <td>   584</td>      <th>  AIC:               </th> <td>   9531.</td> \n",
       "</tr>\n",
       "<tr>\n",
       "  <th>Df Residuals:</th>          <td>   563</td>      <th>  BIC:               </th> <td>   9623.</td> \n",
       "</tr>\n",
       "<tr>\n",
       "  <th>Df Model:</th>              <td>    20</td>      <th>                     </th>     <td> </td>    \n",
       "</tr>\n",
       "<tr>\n",
       "  <th>Covariance Type:</th>      <td>nonrobust</td>    <th>                     </th>     <td> </td>    \n",
       "</tr>\n",
       "</table>\n",
       "<table class=\"simpletable\">\n",
       "<tr>\n",
       "            <td></td>               <th>coef</th>     <th>std err</th>      <th>t</th>      <th>P>|t|</th>  <th>[0.025</th>    <th>0.975]</th>  \n",
       "</tr>\n",
       "<tr>\n",
       "  <th>fall</th>                  <td>  123.0584</td> <td>  163.450</td> <td>    0.753</td> <td> 0.452</td> <td> -197.989</td> <td>  444.105</td>\n",
       "</tr>\n",
       "<tr>\n",
       "  <th>spring</th>                <td> -613.9639</td> <td>  139.278</td> <td>   -4.408</td> <td> 0.000</td> <td> -887.532</td> <td> -340.396</td>\n",
       "</tr>\n",
       "<tr>\n",
       "  <th>summer</th>                <td>  255.8718</td> <td>  141.759</td> <td>    1.805</td> <td> 0.072</td> <td>  -22.570</td> <td>  534.313</td>\n",
       "</tr>\n",
       "<tr>\n",
       "  <th>winter</th>                <td> 1019.5073</td> <td>  157.993</td> <td>    6.453</td> <td> 0.000</td> <td>  709.180</td> <td> 1329.834</td>\n",
       "</tr>\n",
       "<tr>\n",
       "  <th>2011</th>                  <td> -627.0533</td> <td>   62.112</td> <td>  -10.095</td> <td> 0.000</td> <td> -749.053</td> <td> -505.053</td>\n",
       "</tr>\n",
       "<tr>\n",
       "  <th>2012</th>                  <td> 1411.5268</td> <td>   70.705</td> <td>   19.964</td> <td> 0.000</td> <td> 1272.648</td> <td> 1550.405</td>\n",
       "</tr>\n",
       "<tr>\n",
       "  <th>Apr</th>                   <td>  124.6252</td> <td>  178.335</td> <td>    0.699</td> <td> 0.485</td> <td> -225.658</td> <td>  474.908</td>\n",
       "</tr>\n",
       "<tr>\n",
       "  <th>Aug</th>                   <td>  225.3069</td> <td>  213.500</td> <td>    1.055</td> <td> 0.292</td> <td> -194.047</td> <td>  644.661</td>\n",
       "</tr>\n",
       "<tr>\n",
       "  <th>Dec</th>                   <td> -481.1945</td> <td>  171.174</td> <td>   -2.811</td> <td> 0.005</td> <td> -817.413</td> <td> -144.976</td>\n",
       "</tr>\n",
       "<tr>\n",
       "  <th>Feb</th>                   <td> -227.9067</td> <td>  196.862</td> <td>   -1.158</td> <td> 0.247</td> <td> -614.581</td> <td>  158.767</td>\n",
       "</tr>\n",
       "<tr>\n",
       "  <th>Jan</th>                   <td> -365.7390</td> <td>  201.455</td> <td>   -1.815</td> <td> 0.070</td> <td> -761.434</td> <td>   29.956</td>\n",
       "</tr>\n",
       "<tr>\n",
       "  <th>Jul</th>                   <td>   -4.1501</td> <td>  221.643</td> <td>   -0.019</td> <td> 0.985</td> <td> -439.498</td> <td>  431.198</td>\n",
       "</tr>\n",
       "<tr>\n",
       "  <th>Jun</th>                   <td>  382.5833</td> <td>  184.636</td> <td>    2.072</td> <td> 0.039</td> <td>   19.924</td> <td>  745.243</td>\n",
       "</tr>\n",
       "<tr>\n",
       "  <th>Mar</th>                   <td>  268.2501</td> <td>  147.337</td> <td>    1.821</td> <td> 0.069</td> <td>  -21.148</td> <td>  557.648</td>\n",
       "</tr>\n",
       "<tr>\n",
       "  <th>May</th>                   <td>  424.3543</td> <td>  192.645</td> <td>    2.203</td> <td> 0.028</td> <td>   45.964</td> <td>  802.744</td>\n",
       "</tr>\n",
       "<tr>\n",
       "  <th>Nov</th>                   <td> -465.0401</td> <td>  202.259</td> <td>   -2.299</td> <td> 0.022</td> <td> -862.314</td> <td>  -67.766</td>\n",
       "</tr>\n",
       "<tr>\n",
       "  <th>Oct</th>                   <td>  138.1651</td> <td>  195.530</td> <td>    0.707</td> <td> 0.480</td> <td> -245.892</td> <td>  522.222</td>\n",
       "</tr>\n",
       "<tr>\n",
       "  <th>Sep</th>                   <td>  765.2191</td> <td>  175.221</td> <td>    4.367</td> <td> 0.000</td> <td>  421.053</td> <td> 1109.385</td>\n",
       "</tr>\n",
       "<tr>\n",
       "  <th>holiday_No</th>            <td>  597.8743</td> <td>   92.656</td> <td>    6.453</td> <td> 0.000</td> <td>  415.882</td> <td>  779.867</td>\n",
       "</tr>\n",
       "<tr>\n",
       "  <th>holiday_Yes</th>           <td>  186.5992</td> <td>  140.401</td> <td>    1.329</td> <td> 0.184</td> <td>  -89.175</td> <td>  462.374</td>\n",
       "</tr>\n",
       "<tr>\n",
       "  <th>workingday_No</th>         <td>  309.2328</td> <td>   64.875</td> <td>    4.767</td> <td> 0.000</td> <td>  181.805</td> <td>  436.660</td>\n",
       "</tr>\n",
       "<tr>\n",
       "  <th>working_day_Yes</th>       <td>  475.2407</td> <td>   71.885</td> <td>    6.611</td> <td> 0.000</td> <td>  334.045</td> <td>  616.436</td>\n",
       "</tr>\n",
       "<tr>\n",
       "  <th>Clear</th>                 <td> 1278.3003</td> <td>   79.049</td> <td>   16.171</td> <td> 0.000</td> <td> 1123.033</td> <td> 1433.568</td>\n",
       "</tr>\n",
       "<tr>\n",
       "  <th>Light Snow/Light Rain</th> <td>-1127.2566</td> <td>  152.195</td> <td>   -7.407</td> <td> 0.000</td> <td>-1426.196</td> <td> -828.317</td>\n",
       "</tr>\n",
       "<tr>\n",
       "  <th>Mist/Cloudy</th>           <td>  633.4299</td> <td>   81.297</td> <td>    7.792</td> <td> 0.000</td> <td>  473.748</td> <td>  793.112</td>\n",
       "</tr>\n",
       "<tr>\n",
       "  <th>temp</th>                  <td> 3407.8898</td> <td>  384.550</td> <td>    8.862</td> <td> 0.000</td> <td> 2652.561</td> <td> 4163.218</td>\n",
       "</tr>\n",
       "</table>\n",
       "<table class=\"simpletable\">\n",
       "<tr>\n",
       "  <th>Omnibus:</th>       <td>101.498</td> <th>  Durbin-Watson:     </th> <td>   1.933</td>\n",
       "</tr>\n",
       "<tr>\n",
       "  <th>Prob(Omnibus):</th> <td> 0.000</td>  <th>  Jarque-Bera (JB):  </th> <td> 319.473</td>\n",
       "</tr>\n",
       "<tr>\n",
       "  <th>Skew:</th>          <td>-0.814</td>  <th>  Prob(JB):          </th> <td>4.24e-70</td>\n",
       "</tr>\n",
       "<tr>\n",
       "  <th>Kurtosis:</th>      <td> 6.237</td>  <th>  Cond. No.          </th> <td>2.19e+16</td>\n",
       "</tr>\n",
       "</table><br/><br/>Warnings:<br/>[1] Standard Errors assume that the covariance matrix of the errors is correctly specified.<br/>[2] The smallest eigenvalue is 3.89e-30. This might indicate that there are<br/>strong multicollinearity problems or that the design matrix is singular."
      ],
      "text/plain": [
       "<class 'statsmodels.iolib.summary.Summary'>\n",
       "\"\"\"\n",
       "                            OLS Regression Results                            \n",
       "==============================================================================\n",
       "Dep. Variable:                    cnt   R-squared:                       0.825\n",
       "Model:                            OLS   Adj. R-squared:                  0.819\n",
       "Method:                 Least Squares   F-statistic:                     132.9\n",
       "Date:                Sat, 14 Sep 2019   Prob (F-statistic):          3.67e-198\n",
       "Time:                        17:15:02   Log-Likelihood:                -4744.5\n",
       "No. Observations:                 584   AIC:                             9531.\n",
       "Df Residuals:                     563   BIC:                             9623.\n",
       "Df Model:                          20                                         \n",
       "Covariance Type:            nonrobust                                         \n",
       "=========================================================================================\n",
       "                            coef    std err          t      P>|t|      [0.025      0.975]\n",
       "-----------------------------------------------------------------------------------------\n",
       "fall                    123.0584    163.450      0.753      0.452    -197.989     444.105\n",
       "spring                 -613.9639    139.278     -4.408      0.000    -887.532    -340.396\n",
       "summer                  255.8718    141.759      1.805      0.072     -22.570     534.313\n",
       "winter                 1019.5073    157.993      6.453      0.000     709.180    1329.834\n",
       "2011                   -627.0533     62.112    -10.095      0.000    -749.053    -505.053\n",
       "2012                   1411.5268     70.705     19.964      0.000    1272.648    1550.405\n",
       "Apr                     124.6252    178.335      0.699      0.485    -225.658     474.908\n",
       "Aug                     225.3069    213.500      1.055      0.292    -194.047     644.661\n",
       "Dec                    -481.1945    171.174     -2.811      0.005    -817.413    -144.976\n",
       "Feb                    -227.9067    196.862     -1.158      0.247    -614.581     158.767\n",
       "Jan                    -365.7390    201.455     -1.815      0.070    -761.434      29.956\n",
       "Jul                      -4.1501    221.643     -0.019      0.985    -439.498     431.198\n",
       "Jun                     382.5833    184.636      2.072      0.039      19.924     745.243\n",
       "Mar                     268.2501    147.337      1.821      0.069     -21.148     557.648\n",
       "May                     424.3543    192.645      2.203      0.028      45.964     802.744\n",
       "Nov                    -465.0401    202.259     -2.299      0.022    -862.314     -67.766\n",
       "Oct                     138.1651    195.530      0.707      0.480    -245.892     522.222\n",
       "Sep                     765.2191    175.221      4.367      0.000     421.053    1109.385\n",
       "holiday_No              597.8743     92.656      6.453      0.000     415.882     779.867\n",
       "holiday_Yes             186.5992    140.401      1.329      0.184     -89.175     462.374\n",
       "workingday_No           309.2328     64.875      4.767      0.000     181.805     436.660\n",
       "working_day_Yes         475.2407     71.885      6.611      0.000     334.045     616.436\n",
       "Clear                  1278.3003     79.049     16.171      0.000    1123.033    1433.568\n",
       "Light Snow/Light Rain -1127.2566    152.195     -7.407      0.000   -1426.196    -828.317\n",
       "Mist/Cloudy             633.4299     81.297      7.792      0.000     473.748     793.112\n",
       "temp                   3407.8898    384.550      8.862      0.000    2652.561    4163.218\n",
       "==============================================================================\n",
       "Omnibus:                      101.498   Durbin-Watson:                   1.933\n",
       "Prob(Omnibus):                  0.000   Jarque-Bera (JB):              319.473\n",
       "Skew:                          -0.814   Prob(JB):                     4.24e-70\n",
       "Kurtosis:                       6.237   Cond. No.                     2.19e+16\n",
       "==============================================================================\n",
       "\n",
       "Warnings:\n",
       "[1] Standard Errors assume that the covariance matrix of the errors is correctly specified.\n",
       "[2] The smallest eigenvalue is 3.89e-30. This might indicate that there are\n",
       "strong multicollinearity problems or that the design matrix is singular.\n",
       "\"\"\""
      ]
     },
     "execution_count": 152,
     "metadata": {},
     "output_type": "execute_result"
    }
   ],
   "source": [
    "#checking the summary\n",
    "LR_model.summary()"
   ]
  },
  {
   "cell_type": "code",
   "execution_count": 153,
   "metadata": {},
   "outputs": [],
   "source": [
    "#predicting on the test values\n",
    "LR_pred = LR_model.predict(test.iloc[:, 0:26])"
   ]
  },
  {
   "cell_type": "code",
   "execution_count": 154,
   "metadata": {},
   "outputs": [
    {
     "data": {
      "text/plain": [
       "15.624063629912847"
      ]
     },
     "execution_count": 154,
     "metadata": {},
     "output_type": "execute_result"
    }
   ],
   "source": [
    "#calling MAPE\n",
    "MAPE(test.iloc[:, 26], LR_pred)"
   ]
  },
  {
   "cell_type": "markdown",
   "metadata": {},
   "source": [
    "Thus, a **linear regression** model gives us a MAPE of 15.62%, or in other words, the accuracy is 84.38%. This model gives the maximum accuracy out of all three models and so I will be keeping this model."
   ]
  },
  {
   "cell_type": "markdown",
   "metadata": {},
   "source": [
    "*Note: I have also built up a separate model where I did not drop **hum** and **windspeed** during Feature Scaling like I did here. I got an MAPE of 31.42% with Decision Tree, 17.76% with Random Forest and 17.94% with Linear Regression. So it is better to drop these two variables as without these, the MAPE is lesser.*"
   ]
  }
 ],
 "metadata": {
  "kernelspec": {
   "display_name": "Python 3",
   "language": "python",
   "name": "python3"
  },
  "language_info": {
   "codemirror_mode": {
    "name": "ipython",
    "version": 3
   },
   "file_extension": ".py",
   "mimetype": "text/x-python",
   "name": "python",
   "nbconvert_exporter": "python",
   "pygments_lexer": "ipython3",
   "version": "3.6.8"
  }
 },
 "nbformat": 4,
 "nbformat_minor": 2
}
